{
  "nbformat": 4,
  "nbformat_minor": 0,
  "metadata": {
    "colab": {
      "name": "[5장] 가치주를 찾는 기술 (2).ipynb",
      "provenance": [],
      "collapsed_sections": [],
      "authorship_tag": "ABX9TyMeLw+hi4BYJpoPagotcGBM",
      "include_colab_link": true
    },
    "kernelspec": {
      "name": "python3",
      "display_name": "Python 3"
    },
    "language_info": {
      "name": "python"
    }
  },
  "cells": [
    {
      "cell_type": "markdown",
      "metadata": {
        "id": "view-in-github",
        "colab_type": "text"
      },
      "source": [
        "<a href=\"https://colab.research.google.com/github/vavana619/quant_machine/blob/main/%5B5%EC%9E%A5%5D_%EA%B0%80%EC%B9%98%EC%A3%BC%EB%A5%BC_%EC%B0%BE%EB%8A%94_%EA%B8%B0%EC%88%A0_(2).ipynb\" target=\"_parent\"><img src=\"https://colab.research.google.com/assets/colab-badge.svg\" alt=\"Open In Colab\"/></a>"
      ]
    },
    {
      "cell_type": "markdown",
      "source": [
        "# 3. 가치지표 결합하기\n",
        "\n",
        "## 1) 교집합\n",
        ": 각각 하위 20개 종목을 변수에 저장"
      ],
      "metadata": {
        "id": "-MuB-hqJvzy1"
      }
    },
    {
      "cell_type": "code",
      "source": [
        "pip install finterstellar"
      ],
      "metadata": {
        "colab": {
          "base_uri": "https://localhost:8080/"
        },
        "id": "JRebdDi9we4n",
        "outputId": "9b80a180-3959-466c-ee17-23ba0190477e"
      },
      "execution_count": 2,
      "outputs": [
        {
          "output_type": "stream",
          "name": "stdout",
          "text": [
            "Collecting finterstellar\n",
            "  Downloading finterstellar-0.1.19-py3-none-any.whl (12 kB)\n",
            "Requirement already satisfied: numpy>=1.19.3 in /usr/local/lib/python3.7/dist-packages (from finterstellar) (1.21.5)\n",
            "Requirement already satisfied: pandas>=1.1.4 in /usr/local/lib/python3.7/dist-packages (from finterstellar) (1.3.5)\n",
            "Requirement already satisfied: lxml>=4.2.6 in /usr/local/lib/python3.7/dist-packages (from finterstellar) (4.2.6)\n",
            "Requirement already satisfied: requests>=2.23.0 in /usr/local/lib/python3.7/dist-packages (from finterstellar) (2.23.0)\n",
            "Collecting pandas-datareader>=0.10.0\n",
            "  Downloading pandas_datareader-0.10.0-py3-none-any.whl (109 kB)\n",
            "\u001b[K     |████████████████████████████████| 109 kB 4.3 MB/s \n",
            "\u001b[?25hRequirement already satisfied: pytz>=2017.3 in /usr/local/lib/python3.7/dist-packages (from pandas>=1.1.4->finterstellar) (2018.9)\n",
            "Requirement already satisfied: python-dateutil>=2.7.3 in /usr/local/lib/python3.7/dist-packages (from pandas>=1.1.4->finterstellar) (2.8.2)\n",
            "Requirement already satisfied: six>=1.5 in /usr/local/lib/python3.7/dist-packages (from python-dateutil>=2.7.3->pandas>=1.1.4->finterstellar) (1.15.0)\n",
            "Requirement already satisfied: certifi>=2017.4.17 in /usr/local/lib/python3.7/dist-packages (from requests>=2.23.0->finterstellar) (2021.10.8)\n",
            "Requirement already satisfied: urllib3!=1.25.0,!=1.25.1,<1.26,>=1.21.1 in /usr/local/lib/python3.7/dist-packages (from requests>=2.23.0->finterstellar) (1.24.3)\n",
            "Requirement already satisfied: chardet<4,>=3.0.2 in /usr/local/lib/python3.7/dist-packages (from requests>=2.23.0->finterstellar) (3.0.4)\n",
            "Requirement already satisfied: idna<3,>=2.5 in /usr/local/lib/python3.7/dist-packages (from requests>=2.23.0->finterstellar) (2.10)\n",
            "Installing collected packages: pandas-datareader, finterstellar\n",
            "  Attempting uninstall: pandas-datareader\n",
            "    Found existing installation: pandas-datareader 0.9.0\n",
            "    Uninstalling pandas-datareader-0.9.0:\n",
            "      Successfully uninstalled pandas-datareader-0.9.0\n",
            "Successfully installed finterstellar-0.1.19 pandas-datareader-0.10.0\n"
          ]
        }
      ]
    },
    {
      "cell_type": "code",
      "source": [
        "import finterstellar as fs\n",
        "OTP = '16500294061189711897'"
      ],
      "metadata": {
        "id": "8oRXLmHzwltA"
      },
      "execution_count": 8,
      "outputs": []
    },
    {
      "cell_type": "code",
      "execution_count": 9,
      "metadata": {
        "colab": {
          "base_uri": "https://localhost:8080/"
        },
        "id": "wZVgc9l2rcJS",
        "outputId": "e0b22127-a6c6-444c-d7c3-e5457681b7a2"
      },
      "outputs": [
        {
          "output_type": "stream",
          "name": "stdout",
          "text": [
            "\r2021Q3...OK\n"
          ]
        }
      ],
      "source": [
        "t = '2021Q3' # 2021년 3분기\n",
        "data = fs.fn_consolidated(otp=OTP, term=t, vol=0) # 해당 분기의 모든 재무제표 데이터 불러오기\n",
        "data['PER'] = data['Price_M3'] / data['EPS'] # PER 계산\n",
        "data['PBR'] =  data['Price_M3'] / (data['Shareholders Equity'] / data['Shares']) # PBR 계싼\n",
        "s1 = fs.fn_filter(data, by='PER', floor=1, cap=10, n=20, asc=True) # PER 기준 하위 20개 종목 선택\n",
        "s2 = fs.fn_filter(data, by='PBR', floor=.1, cap=1, n=20, asc=True) # PER 기준 하위 20개 종목 선택"
      ]
    },
    {
      "cell_type": "markdown",
      "source": [
        "우선 데이터를 가져와서 PER과 PBR의 시그널을 만들기 -> 겹치는 종목이 단 하나 존재"
      ],
      "metadata": {
        "id": "tP6hkXqQxkyq"
      }
    },
    {
      "cell_type": "code",
      "source": [
        "print(s1) # s1 확인"
      ],
      "metadata": {
        "colab": {
          "base_uri": "https://localhost:8080/"
        },
        "id": "YHQuoZToxaHm",
        "outputId": "95505112-7af6-4655-b8bb-eb3637bcf81c"
      },
      "execution_count": 9,
      "outputs": [
        {
          "output_type": "stream",
          "name": "stdout",
          "text": [
            "             PER\n",
            "symbol          \n",
            "MFG     1.101084\n",
            "ASTL    1.141499\n",
            "MITT    1.164773\n",
            "COHN    1.197251\n",
            "QD      1.212500\n",
            "SHEN    1.219512\n",
            "VIPS    1.308411\n",
            "LBTYK   1.326878\n",
            "LBTYA   1.344644\n",
            "MTL     1.359672\n",
            "NMM     1.425568\n",
            "SSSS    1.445312\n",
            "AGIO    1.456358\n",
            "HOV     1.495945\n",
            "DTEA    1.519608\n",
            "FYBR    1.524031\n",
            "NNBR    1.547170\n",
            "DAC     1.632765\n",
            "MARK    1.677966\n",
            "CPG     1.766399\n"
          ]
        }
      ]
    },
    {
      "cell_type": "code",
      "source": [
        "print(s2) # s2 확인"
      ],
      "metadata": {
        "colab": {
          "base_uri": "https://localhost:8080/"
        },
        "id": "mspRLhVVxgPQ",
        "outputId": "386a053d-292d-4728-9ac1-36887b037e77"
      },
      "execution_count": 10,
      "outputs": [
        {
          "output_type": "stream",
          "name": "stdout",
          "text": [
            "             PBR\n",
            "symbol          \n",
            "ICD     0.100246\n",
            "TNP     0.105982\n",
            "RVI     0.115185\n",
            "QD      0.126433\n",
            "RCEL    0.133777\n",
            "GNW     0.134417\n",
            "GASS    0.140216\n",
            "AEI     0.151292\n",
            "SMLP    0.151440\n",
            "RIG     0.160018\n",
            "GURE    0.160620\n",
            "ACOR    0.161745\n",
            "HAPP    0.168090\n",
            "HEXO    0.170961\n",
            "TUSK    0.178395\n",
            "CORR    0.180392\n",
            "YPF     0.188682\n",
            "KEP     0.189478\n",
            "SMHI    0.191086\n",
            "WHLR    0.192041\n"
          ]
        }
      ]
    },
    {
      "cell_type": "code",
      "source": [
        "fs.combine_signal(s1, s2, how='and') # 교집합으로 종목 선택 (and)"
      ],
      "metadata": {
        "colab": {
          "base_uri": "https://localhost:8080/",
          "height": 112
        },
        "id": "7x0mGRbExhsS",
        "outputId": "fd930408-a778-4c24-905a-5920320b71bb"
      },
      "execution_count": 11,
      "outputs": [
        {
          "output_type": "execute_result",
          "data": {
            "text/plain": [
              "           PER       PBR\n",
              "symbol                  \n",
              "QD      1.2125  0.126433"
            ],
            "text/html": [
              "\n",
              "  <div id=\"df-ce7006c4-c8ae-418a-9705-7ae338fd6f75\">\n",
              "    <div class=\"colab-df-container\">\n",
              "      <div>\n",
              "<style scoped>\n",
              "    .dataframe tbody tr th:only-of-type {\n",
              "        vertical-align: middle;\n",
              "    }\n",
              "\n",
              "    .dataframe tbody tr th {\n",
              "        vertical-align: top;\n",
              "    }\n",
              "\n",
              "    .dataframe thead th {\n",
              "        text-align: right;\n",
              "    }\n",
              "</style>\n",
              "<table border=\"1\" class=\"dataframe\">\n",
              "  <thead>\n",
              "    <tr style=\"text-align: right;\">\n",
              "      <th></th>\n",
              "      <th>PER</th>\n",
              "      <th>PBR</th>\n",
              "    </tr>\n",
              "    <tr>\n",
              "      <th>symbol</th>\n",
              "      <th></th>\n",
              "      <th></th>\n",
              "    </tr>\n",
              "  </thead>\n",
              "  <tbody>\n",
              "    <tr>\n",
              "      <th>QD</th>\n",
              "      <td>1.2125</td>\n",
              "      <td>0.126433</td>\n",
              "    </tr>\n",
              "  </tbody>\n",
              "</table>\n",
              "</div>\n",
              "      <button class=\"colab-df-convert\" onclick=\"convertToInteractive('df-ce7006c4-c8ae-418a-9705-7ae338fd6f75')\"\n",
              "              title=\"Convert this dataframe to an interactive table.\"\n",
              "              style=\"display:none;\">\n",
              "        \n",
              "  <svg xmlns=\"http://www.w3.org/2000/svg\" height=\"24px\"viewBox=\"0 0 24 24\"\n",
              "       width=\"24px\">\n",
              "    <path d=\"M0 0h24v24H0V0z\" fill=\"none\"/>\n",
              "    <path d=\"M18.56 5.44l.94 2.06.94-2.06 2.06-.94-2.06-.94-.94-2.06-.94 2.06-2.06.94zm-11 1L8.5 8.5l.94-2.06 2.06-.94-2.06-.94L8.5 2.5l-.94 2.06-2.06.94zm10 10l.94 2.06.94-2.06 2.06-.94-2.06-.94-.94-2.06-.94 2.06-2.06.94z\"/><path d=\"M17.41 7.96l-1.37-1.37c-.4-.4-.92-.59-1.43-.59-.52 0-1.04.2-1.43.59L10.3 9.45l-7.72 7.72c-.78.78-.78 2.05 0 2.83L4 21.41c.39.39.9.59 1.41.59.51 0 1.02-.2 1.41-.59l7.78-7.78 2.81-2.81c.8-.78.8-2.07 0-2.86zM5.41 20L4 18.59l7.72-7.72 1.47 1.35L5.41 20z\"/>\n",
              "  </svg>\n",
              "      </button>\n",
              "      \n",
              "  <style>\n",
              "    .colab-df-container {\n",
              "      display:flex;\n",
              "      flex-wrap:wrap;\n",
              "      gap: 12px;\n",
              "    }\n",
              "\n",
              "    .colab-df-convert {\n",
              "      background-color: #E8F0FE;\n",
              "      border: none;\n",
              "      border-radius: 50%;\n",
              "      cursor: pointer;\n",
              "      display: none;\n",
              "      fill: #1967D2;\n",
              "      height: 32px;\n",
              "      padding: 0 0 0 0;\n",
              "      width: 32px;\n",
              "    }\n",
              "\n",
              "    .colab-df-convert:hover {\n",
              "      background-color: #E2EBFA;\n",
              "      box-shadow: 0px 1px 2px rgba(60, 64, 67, 0.3), 0px 1px 3px 1px rgba(60, 64, 67, 0.15);\n",
              "      fill: #174EA6;\n",
              "    }\n",
              "\n",
              "    [theme=dark] .colab-df-convert {\n",
              "      background-color: #3B4455;\n",
              "      fill: #D2E3FC;\n",
              "    }\n",
              "\n",
              "    [theme=dark] .colab-df-convert:hover {\n",
              "      background-color: #434B5C;\n",
              "      box-shadow: 0px 1px 3px 1px rgba(0, 0, 0, 0.15);\n",
              "      filter: drop-shadow(0px 1px 2px rgba(0, 0, 0, 0.3));\n",
              "      fill: #FFFFFF;\n",
              "    }\n",
              "  </style>\n",
              "\n",
              "      <script>\n",
              "        const buttonEl =\n",
              "          document.querySelector('#df-ce7006c4-c8ae-418a-9705-7ae338fd6f75 button.colab-df-convert');\n",
              "        buttonEl.style.display =\n",
              "          google.colab.kernel.accessAllowed ? 'block' : 'none';\n",
              "\n",
              "        async function convertToInteractive(key) {\n",
              "          const element = document.querySelector('#df-ce7006c4-c8ae-418a-9705-7ae338fd6f75');\n",
              "          const dataTable =\n",
              "            await google.colab.kernel.invokeFunction('convertToInteractive',\n",
              "                                                     [key], {});\n",
              "          if (!dataTable) return;\n",
              "\n",
              "          const docLinkHtml = 'Like what you see? Visit the ' +\n",
              "            '<a target=\"_blank\" href=https://colab.research.google.com/notebooks/data_table.ipynb>data table notebook</a>'\n",
              "            + ' to learn more about interactive tables.';\n",
              "          element.innerHTML = '';\n",
              "          dataTable['output_type'] = 'display_data';\n",
              "          await google.colab.output.renderOutput(dataTable, element);\n",
              "          const docLink = document.createElement('div');\n",
              "          docLink.innerHTML = docLinkHtml;\n",
              "          element.appendChild(docLink);\n",
              "        }\n",
              "      </script>\n",
              "    </div>\n",
              "  </div>\n",
              "  "
            ]
          },
          "metadata": {},
          "execution_count": 11
        }
      ]
    },
    {
      "cell_type": "code",
      "source": [
        "fs.combine_signal(s1, s2, how='or') # 합집합으로 종목 선택도 가능 (or)"
      ],
      "metadata": {
        "colab": {
          "base_uri": "https://localhost:8080/",
          "height": 1000
        },
        "id": "CQwDnxQKxt12",
        "outputId": "462a7fdb-cc4c-4f28-f477-2bfdd94afa51"
      },
      "execution_count": 12,
      "outputs": [
        {
          "output_type": "execute_result",
          "data": {
            "text/plain": [
              "             PER       PBR\n",
              "symbol                    \n",
              "ACOR         NaN  0.161745\n",
              "AEI          NaN  0.151292\n",
              "AGIO    1.456358       NaN\n",
              "ASTL    1.141499       NaN\n",
              "COHN    1.197251       NaN\n",
              "CORR         NaN  0.180392\n",
              "CPG     1.766399       NaN\n",
              "DAC     1.632765       NaN\n",
              "DTEA    1.519608       NaN\n",
              "FYBR    1.524031       NaN\n",
              "GASS         NaN  0.140216\n",
              "GNW          NaN  0.134417\n",
              "GURE         NaN  0.160620\n",
              "HAPP         NaN  0.168090\n",
              "HEXO         NaN  0.170961\n",
              "HOV     1.495945       NaN\n",
              "ICD          NaN  0.100246\n",
              "KEP          NaN  0.189478\n",
              "LBTYA   1.344644       NaN\n",
              "LBTYK   1.326878       NaN\n",
              "MARK    1.677966       NaN\n",
              "MFG     1.101084       NaN\n",
              "MITT    1.164773       NaN\n",
              "MTL     1.359672       NaN\n",
              "NMM     1.425568       NaN\n",
              "NNBR    1.547170       NaN\n",
              "QD      1.212500  0.126433\n",
              "RCEL         NaN  0.133777\n",
              "RIG          NaN  0.160018\n",
              "RVI          NaN  0.115185\n",
              "SHEN    1.219512       NaN\n",
              "SMHI         NaN  0.191086\n",
              "SMLP         NaN  0.151440\n",
              "SSSS    1.445312       NaN\n",
              "TNP          NaN  0.105982\n",
              "TUSK         NaN  0.178395\n",
              "VIPS    1.308411       NaN\n",
              "WHLR         NaN  0.192041\n",
              "YPF          NaN  0.188682"
            ],
            "text/html": [
              "\n",
              "  <div id=\"df-0aec2596-203b-49bd-9d7b-dd92d30e7ecb\">\n",
              "    <div class=\"colab-df-container\">\n",
              "      <div>\n",
              "<style scoped>\n",
              "    .dataframe tbody tr th:only-of-type {\n",
              "        vertical-align: middle;\n",
              "    }\n",
              "\n",
              "    .dataframe tbody tr th {\n",
              "        vertical-align: top;\n",
              "    }\n",
              "\n",
              "    .dataframe thead th {\n",
              "        text-align: right;\n",
              "    }\n",
              "</style>\n",
              "<table border=\"1\" class=\"dataframe\">\n",
              "  <thead>\n",
              "    <tr style=\"text-align: right;\">\n",
              "      <th></th>\n",
              "      <th>PER</th>\n",
              "      <th>PBR</th>\n",
              "    </tr>\n",
              "    <tr>\n",
              "      <th>symbol</th>\n",
              "      <th></th>\n",
              "      <th></th>\n",
              "    </tr>\n",
              "  </thead>\n",
              "  <tbody>\n",
              "    <tr>\n",
              "      <th>ACOR</th>\n",
              "      <td>NaN</td>\n",
              "      <td>0.161745</td>\n",
              "    </tr>\n",
              "    <tr>\n",
              "      <th>AEI</th>\n",
              "      <td>NaN</td>\n",
              "      <td>0.151292</td>\n",
              "    </tr>\n",
              "    <tr>\n",
              "      <th>AGIO</th>\n",
              "      <td>1.456358</td>\n",
              "      <td>NaN</td>\n",
              "    </tr>\n",
              "    <tr>\n",
              "      <th>ASTL</th>\n",
              "      <td>1.141499</td>\n",
              "      <td>NaN</td>\n",
              "    </tr>\n",
              "    <tr>\n",
              "      <th>COHN</th>\n",
              "      <td>1.197251</td>\n",
              "      <td>NaN</td>\n",
              "    </tr>\n",
              "    <tr>\n",
              "      <th>CORR</th>\n",
              "      <td>NaN</td>\n",
              "      <td>0.180392</td>\n",
              "    </tr>\n",
              "    <tr>\n",
              "      <th>CPG</th>\n",
              "      <td>1.766399</td>\n",
              "      <td>NaN</td>\n",
              "    </tr>\n",
              "    <tr>\n",
              "      <th>DAC</th>\n",
              "      <td>1.632765</td>\n",
              "      <td>NaN</td>\n",
              "    </tr>\n",
              "    <tr>\n",
              "      <th>DTEA</th>\n",
              "      <td>1.519608</td>\n",
              "      <td>NaN</td>\n",
              "    </tr>\n",
              "    <tr>\n",
              "      <th>FYBR</th>\n",
              "      <td>1.524031</td>\n",
              "      <td>NaN</td>\n",
              "    </tr>\n",
              "    <tr>\n",
              "      <th>GASS</th>\n",
              "      <td>NaN</td>\n",
              "      <td>0.140216</td>\n",
              "    </tr>\n",
              "    <tr>\n",
              "      <th>GNW</th>\n",
              "      <td>NaN</td>\n",
              "      <td>0.134417</td>\n",
              "    </tr>\n",
              "    <tr>\n",
              "      <th>GURE</th>\n",
              "      <td>NaN</td>\n",
              "      <td>0.160620</td>\n",
              "    </tr>\n",
              "    <tr>\n",
              "      <th>HAPP</th>\n",
              "      <td>NaN</td>\n",
              "      <td>0.168090</td>\n",
              "    </tr>\n",
              "    <tr>\n",
              "      <th>HEXO</th>\n",
              "      <td>NaN</td>\n",
              "      <td>0.170961</td>\n",
              "    </tr>\n",
              "    <tr>\n",
              "      <th>HOV</th>\n",
              "      <td>1.495945</td>\n",
              "      <td>NaN</td>\n",
              "    </tr>\n",
              "    <tr>\n",
              "      <th>ICD</th>\n",
              "      <td>NaN</td>\n",
              "      <td>0.100246</td>\n",
              "    </tr>\n",
              "    <tr>\n",
              "      <th>KEP</th>\n",
              "      <td>NaN</td>\n",
              "      <td>0.189478</td>\n",
              "    </tr>\n",
              "    <tr>\n",
              "      <th>LBTYA</th>\n",
              "      <td>1.344644</td>\n",
              "      <td>NaN</td>\n",
              "    </tr>\n",
              "    <tr>\n",
              "      <th>LBTYK</th>\n",
              "      <td>1.326878</td>\n",
              "      <td>NaN</td>\n",
              "    </tr>\n",
              "    <tr>\n",
              "      <th>MARK</th>\n",
              "      <td>1.677966</td>\n",
              "      <td>NaN</td>\n",
              "    </tr>\n",
              "    <tr>\n",
              "      <th>MFG</th>\n",
              "      <td>1.101084</td>\n",
              "      <td>NaN</td>\n",
              "    </tr>\n",
              "    <tr>\n",
              "      <th>MITT</th>\n",
              "      <td>1.164773</td>\n",
              "      <td>NaN</td>\n",
              "    </tr>\n",
              "    <tr>\n",
              "      <th>MTL</th>\n",
              "      <td>1.359672</td>\n",
              "      <td>NaN</td>\n",
              "    </tr>\n",
              "    <tr>\n",
              "      <th>NMM</th>\n",
              "      <td>1.425568</td>\n",
              "      <td>NaN</td>\n",
              "    </tr>\n",
              "    <tr>\n",
              "      <th>NNBR</th>\n",
              "      <td>1.547170</td>\n",
              "      <td>NaN</td>\n",
              "    </tr>\n",
              "    <tr>\n",
              "      <th>QD</th>\n",
              "      <td>1.212500</td>\n",
              "      <td>0.126433</td>\n",
              "    </tr>\n",
              "    <tr>\n",
              "      <th>RCEL</th>\n",
              "      <td>NaN</td>\n",
              "      <td>0.133777</td>\n",
              "    </tr>\n",
              "    <tr>\n",
              "      <th>RIG</th>\n",
              "      <td>NaN</td>\n",
              "      <td>0.160018</td>\n",
              "    </tr>\n",
              "    <tr>\n",
              "      <th>RVI</th>\n",
              "      <td>NaN</td>\n",
              "      <td>0.115185</td>\n",
              "    </tr>\n",
              "    <tr>\n",
              "      <th>SHEN</th>\n",
              "      <td>1.219512</td>\n",
              "      <td>NaN</td>\n",
              "    </tr>\n",
              "    <tr>\n",
              "      <th>SMHI</th>\n",
              "      <td>NaN</td>\n",
              "      <td>0.191086</td>\n",
              "    </tr>\n",
              "    <tr>\n",
              "      <th>SMLP</th>\n",
              "      <td>NaN</td>\n",
              "      <td>0.151440</td>\n",
              "    </tr>\n",
              "    <tr>\n",
              "      <th>SSSS</th>\n",
              "      <td>1.445312</td>\n",
              "      <td>NaN</td>\n",
              "    </tr>\n",
              "    <tr>\n",
              "      <th>TNP</th>\n",
              "      <td>NaN</td>\n",
              "      <td>0.105982</td>\n",
              "    </tr>\n",
              "    <tr>\n",
              "      <th>TUSK</th>\n",
              "      <td>NaN</td>\n",
              "      <td>0.178395</td>\n",
              "    </tr>\n",
              "    <tr>\n",
              "      <th>VIPS</th>\n",
              "      <td>1.308411</td>\n",
              "      <td>NaN</td>\n",
              "    </tr>\n",
              "    <tr>\n",
              "      <th>WHLR</th>\n",
              "      <td>NaN</td>\n",
              "      <td>0.192041</td>\n",
              "    </tr>\n",
              "    <tr>\n",
              "      <th>YPF</th>\n",
              "      <td>NaN</td>\n",
              "      <td>0.188682</td>\n",
              "    </tr>\n",
              "  </tbody>\n",
              "</table>\n",
              "</div>\n",
              "      <button class=\"colab-df-convert\" onclick=\"convertToInteractive('df-0aec2596-203b-49bd-9d7b-dd92d30e7ecb')\"\n",
              "              title=\"Convert this dataframe to an interactive table.\"\n",
              "              style=\"display:none;\">\n",
              "        \n",
              "  <svg xmlns=\"http://www.w3.org/2000/svg\" height=\"24px\"viewBox=\"0 0 24 24\"\n",
              "       width=\"24px\">\n",
              "    <path d=\"M0 0h24v24H0V0z\" fill=\"none\"/>\n",
              "    <path d=\"M18.56 5.44l.94 2.06.94-2.06 2.06-.94-2.06-.94-.94-2.06-.94 2.06-2.06.94zm-11 1L8.5 8.5l.94-2.06 2.06-.94-2.06-.94L8.5 2.5l-.94 2.06-2.06.94zm10 10l.94 2.06.94-2.06 2.06-.94-2.06-.94-.94-2.06-.94 2.06-2.06.94z\"/><path d=\"M17.41 7.96l-1.37-1.37c-.4-.4-.92-.59-1.43-.59-.52 0-1.04.2-1.43.59L10.3 9.45l-7.72 7.72c-.78.78-.78 2.05 0 2.83L4 21.41c.39.39.9.59 1.41.59.51 0 1.02-.2 1.41-.59l7.78-7.78 2.81-2.81c.8-.78.8-2.07 0-2.86zM5.41 20L4 18.59l7.72-7.72 1.47 1.35L5.41 20z\"/>\n",
              "  </svg>\n",
              "      </button>\n",
              "      \n",
              "  <style>\n",
              "    .colab-df-container {\n",
              "      display:flex;\n",
              "      flex-wrap:wrap;\n",
              "      gap: 12px;\n",
              "    }\n",
              "\n",
              "    .colab-df-convert {\n",
              "      background-color: #E8F0FE;\n",
              "      border: none;\n",
              "      border-radius: 50%;\n",
              "      cursor: pointer;\n",
              "      display: none;\n",
              "      fill: #1967D2;\n",
              "      height: 32px;\n",
              "      padding: 0 0 0 0;\n",
              "      width: 32px;\n",
              "    }\n",
              "\n",
              "    .colab-df-convert:hover {\n",
              "      background-color: #E2EBFA;\n",
              "      box-shadow: 0px 1px 2px rgba(60, 64, 67, 0.3), 0px 1px 3px 1px rgba(60, 64, 67, 0.15);\n",
              "      fill: #174EA6;\n",
              "    }\n",
              "\n",
              "    [theme=dark] .colab-df-convert {\n",
              "      background-color: #3B4455;\n",
              "      fill: #D2E3FC;\n",
              "    }\n",
              "\n",
              "    [theme=dark] .colab-df-convert:hover {\n",
              "      background-color: #434B5C;\n",
              "      box-shadow: 0px 1px 3px 1px rgba(0, 0, 0, 0.15);\n",
              "      filter: drop-shadow(0px 1px 2px rgba(0, 0, 0, 0.3));\n",
              "      fill: #FFFFFF;\n",
              "    }\n",
              "  </style>\n",
              "\n",
              "      <script>\n",
              "        const buttonEl =\n",
              "          document.querySelector('#df-0aec2596-203b-49bd-9d7b-dd92d30e7ecb button.colab-df-convert');\n",
              "        buttonEl.style.display =\n",
              "          google.colab.kernel.accessAllowed ? 'block' : 'none';\n",
              "\n",
              "        async function convertToInteractive(key) {\n",
              "          const element = document.querySelector('#df-0aec2596-203b-49bd-9d7b-dd92d30e7ecb');\n",
              "          const dataTable =\n",
              "            await google.colab.kernel.invokeFunction('convertToInteractive',\n",
              "                                                     [key], {});\n",
              "          if (!dataTable) return;\n",
              "\n",
              "          const docLinkHtml = 'Like what you see? Visit the ' +\n",
              "            '<a target=\"_blank\" href=https://colab.research.google.com/notebooks/data_table.ipynb>data table notebook</a>'\n",
              "            + ' to learn more about interactive tables.';\n",
              "          element.innerHTML = '';\n",
              "          dataTable['output_type'] = 'display_data';\n",
              "          await google.colab.output.renderOutput(dataTable, element);\n",
              "          const docLink = document.createElement('div');\n",
              "          docLink.innerHTML = docLinkHtml;\n",
              "          element.appendChild(docLink);\n",
              "        }\n",
              "      </script>\n",
              "    </div>\n",
              "  </div>\n",
              "  "
            ]
          },
          "metadata": {},
          "execution_count": 12
        }
      ]
    },
    {
      "cell_type": "markdown",
      "source": [
        "## 2) 합산점수\n",
        "\n",
        "## `fn_score(data, by, method, floor, cap, asc)` : 점수 합산용 내장 함수\n",
        "\n",
        "* data : 입력용 재무제표 데이터 프레임\n",
        "* by : 산출 기준 지표\n",
        "* method : 산출 방법\n",
        "* floor : 최저값\n",
        "* cap : 최댓값\n",
        "* asc : 배점 순서를 오름차순(True) 혹은 내림차순(False)로 정렬"
      ],
      "metadata": {
        "id": "vU3a7Ba6ygNL"
      }
    },
    {
      "cell_type": "code",
      "source": [
        "# 절대평가\n",
        "s1 = fs.fn_score(data, by='PER', method='absolute', floor=1, cap=10, asc=True) # PER 기준 절대점수 계산\n",
        "s2 = fs.fn_score(data, by='PBR', method='absolute', floor=.1, cap=1, asc=True) # PBR 기준 절대점수 계산"
      ],
      "metadata": {
        "id": "i9FBwSSjyfzF"
      },
      "execution_count": 13,
      "outputs": []
    },
    {
      "cell_type": "code",
      "source": [
        "print(s1) # PER 기준 절대함수 확인"
      ],
      "metadata": {
        "colab": {
          "base_uri": "https://localhost:8080/"
        },
        "id": "CuKqCTePzGRO",
        "outputId": "74f64a63-e271-4411-b003-2d5f0935a58c"
      },
      "execution_count": 14,
      "outputs": [
        {
          "output_type": "stream",
          "name": "stdout",
          "text": [
            "              PER  Score\n",
            "symbol                  \n",
            "MFG      1.101084   98.9\n",
            "ASTL     1.141499   98.4\n",
            "MITT     1.164773   98.2\n",
            "COHN     1.197251   97.8\n",
            "QD       1.212500   97.6\n",
            "...           ...    ...\n",
            "HNNA     9.971963    0.3\n",
            "WBK      9.990282    0.1\n",
            "OSBC     9.992063    0.1\n",
            "INTC    10.000000    0.0\n",
            "BDSI    10.000000    0.0\n",
            "\n",
            "[645 rows x 2 columns]\n"
          ]
        }
      ]
    },
    {
      "cell_type": "code",
      "source": [
        "print(s2) # PBR 기준 절대함수 확인"
      ],
      "metadata": {
        "colab": {
          "base_uri": "https://localhost:8080/"
        },
        "id": "Y9zMmOCozP5n",
        "outputId": "bd70074d-0058-4d5d-eaa9-4ca86c9f70a3"
      },
      "execution_count": 15,
      "outputs": [
        {
          "output_type": "stream",
          "name": "stdout",
          "text": [
            "             PBR  Score\n",
            "symbol                 \n",
            "ICD     0.100246  100.0\n",
            "TNP     0.105982   99.3\n",
            "RVI     0.115185   98.3\n",
            "QD      0.126433   97.1\n",
            "RCEL    0.133777   96.2\n",
            "...          ...    ...\n",
            "WHF     0.998371    0.2\n",
            "BCBP    0.998491    0.2\n",
            "CARE    0.998777    0.1\n",
            "ADV     0.999052    0.1\n",
            "TRVG    0.999495    0.1\n",
            "\n",
            "[686 rows x 2 columns]\n"
          ]
        }
      ]
    },
    {
      "cell_type": "markdown",
      "source": [
        "절대평가한 내용을 기반으로 합산 -> combine_score() 함수를 이용해 합산하며 입력으로 합산할 데이터프레임과 데이터 개수를 보내줌"
      ],
      "metadata": {
        "id": "1lbC4Eghz4fs"
      }
    },
    {
      "cell_type": "code",
      "source": [
        "fs.combine_score(s1, s2, n=10) # 절대 합산 점수 계산 상위 10개 종목"
      ],
      "metadata": {
        "colab": {
          "base_uri": "https://localhost:8080/",
          "height": 394
        },
        "id": "aYWgGqZTzcDm",
        "outputId": "222e9650-bc3a-42f7-95fb-60da55c9589a"
      },
      "execution_count": 16,
      "outputs": [
        {
          "output_type": "execute_result",
          "data": {
            "text/plain": [
              "        Score  Score_    Sum\n",
              "symbol                      \n",
              "QD      48.80   48.55  97.35\n",
              "GNW     44.10   48.10  92.20\n",
              "MITT    49.10   36.85  85.95\n",
              "COHN    48.90   36.90  85.80\n",
              "EDTK    42.15   42.70  84.85\n",
              "MFG     49.45   34.45  83.90\n",
              "BHAT    44.20   39.65  83.85\n",
              "GLOP    38.55   43.25  81.80\n",
              "NMM     47.65   33.10  80.75\n",
              "ASTL    49.20   31.40  80.60"
            ],
            "text/html": [
              "\n",
              "  <div id=\"df-6827b993-d9ad-4ccc-94ac-dc2f14ca69f7\">\n",
              "    <div class=\"colab-df-container\">\n",
              "      <div>\n",
              "<style scoped>\n",
              "    .dataframe tbody tr th:only-of-type {\n",
              "        vertical-align: middle;\n",
              "    }\n",
              "\n",
              "    .dataframe tbody tr th {\n",
              "        vertical-align: top;\n",
              "    }\n",
              "\n",
              "    .dataframe thead th {\n",
              "        text-align: right;\n",
              "    }\n",
              "</style>\n",
              "<table border=\"1\" class=\"dataframe\">\n",
              "  <thead>\n",
              "    <tr style=\"text-align: right;\">\n",
              "      <th></th>\n",
              "      <th>Score</th>\n",
              "      <th>Score_</th>\n",
              "      <th>Sum</th>\n",
              "    </tr>\n",
              "    <tr>\n",
              "      <th>symbol</th>\n",
              "      <th></th>\n",
              "      <th></th>\n",
              "      <th></th>\n",
              "    </tr>\n",
              "  </thead>\n",
              "  <tbody>\n",
              "    <tr>\n",
              "      <th>QD</th>\n",
              "      <td>48.80</td>\n",
              "      <td>48.55</td>\n",
              "      <td>97.35</td>\n",
              "    </tr>\n",
              "    <tr>\n",
              "      <th>GNW</th>\n",
              "      <td>44.10</td>\n",
              "      <td>48.10</td>\n",
              "      <td>92.20</td>\n",
              "    </tr>\n",
              "    <tr>\n",
              "      <th>MITT</th>\n",
              "      <td>49.10</td>\n",
              "      <td>36.85</td>\n",
              "      <td>85.95</td>\n",
              "    </tr>\n",
              "    <tr>\n",
              "      <th>COHN</th>\n",
              "      <td>48.90</td>\n",
              "      <td>36.90</td>\n",
              "      <td>85.80</td>\n",
              "    </tr>\n",
              "    <tr>\n",
              "      <th>EDTK</th>\n",
              "      <td>42.15</td>\n",
              "      <td>42.70</td>\n",
              "      <td>84.85</td>\n",
              "    </tr>\n",
              "    <tr>\n",
              "      <th>MFG</th>\n",
              "      <td>49.45</td>\n",
              "      <td>34.45</td>\n",
              "      <td>83.90</td>\n",
              "    </tr>\n",
              "    <tr>\n",
              "      <th>BHAT</th>\n",
              "      <td>44.20</td>\n",
              "      <td>39.65</td>\n",
              "      <td>83.85</td>\n",
              "    </tr>\n",
              "    <tr>\n",
              "      <th>GLOP</th>\n",
              "      <td>38.55</td>\n",
              "      <td>43.25</td>\n",
              "      <td>81.80</td>\n",
              "    </tr>\n",
              "    <tr>\n",
              "      <th>NMM</th>\n",
              "      <td>47.65</td>\n",
              "      <td>33.10</td>\n",
              "      <td>80.75</td>\n",
              "    </tr>\n",
              "    <tr>\n",
              "      <th>ASTL</th>\n",
              "      <td>49.20</td>\n",
              "      <td>31.40</td>\n",
              "      <td>80.60</td>\n",
              "    </tr>\n",
              "  </tbody>\n",
              "</table>\n",
              "</div>\n",
              "      <button class=\"colab-df-convert\" onclick=\"convertToInteractive('df-6827b993-d9ad-4ccc-94ac-dc2f14ca69f7')\"\n",
              "              title=\"Convert this dataframe to an interactive table.\"\n",
              "              style=\"display:none;\">\n",
              "        \n",
              "  <svg xmlns=\"http://www.w3.org/2000/svg\" height=\"24px\"viewBox=\"0 0 24 24\"\n",
              "       width=\"24px\">\n",
              "    <path d=\"M0 0h24v24H0V0z\" fill=\"none\"/>\n",
              "    <path d=\"M18.56 5.44l.94 2.06.94-2.06 2.06-.94-2.06-.94-.94-2.06-.94 2.06-2.06.94zm-11 1L8.5 8.5l.94-2.06 2.06-.94-2.06-.94L8.5 2.5l-.94 2.06-2.06.94zm10 10l.94 2.06.94-2.06 2.06-.94-2.06-.94-.94-2.06-.94 2.06-2.06.94z\"/><path d=\"M17.41 7.96l-1.37-1.37c-.4-.4-.92-.59-1.43-.59-.52 0-1.04.2-1.43.59L10.3 9.45l-7.72 7.72c-.78.78-.78 2.05 0 2.83L4 21.41c.39.39.9.59 1.41.59.51 0 1.02-.2 1.41-.59l7.78-7.78 2.81-2.81c.8-.78.8-2.07 0-2.86zM5.41 20L4 18.59l7.72-7.72 1.47 1.35L5.41 20z\"/>\n",
              "  </svg>\n",
              "      </button>\n",
              "      \n",
              "  <style>\n",
              "    .colab-df-container {\n",
              "      display:flex;\n",
              "      flex-wrap:wrap;\n",
              "      gap: 12px;\n",
              "    }\n",
              "\n",
              "    .colab-df-convert {\n",
              "      background-color: #E8F0FE;\n",
              "      border: none;\n",
              "      border-radius: 50%;\n",
              "      cursor: pointer;\n",
              "      display: none;\n",
              "      fill: #1967D2;\n",
              "      height: 32px;\n",
              "      padding: 0 0 0 0;\n",
              "      width: 32px;\n",
              "    }\n",
              "\n",
              "    .colab-df-convert:hover {\n",
              "      background-color: #E2EBFA;\n",
              "      box-shadow: 0px 1px 2px rgba(60, 64, 67, 0.3), 0px 1px 3px 1px rgba(60, 64, 67, 0.15);\n",
              "      fill: #174EA6;\n",
              "    }\n",
              "\n",
              "    [theme=dark] .colab-df-convert {\n",
              "      background-color: #3B4455;\n",
              "      fill: #D2E3FC;\n",
              "    }\n",
              "\n",
              "    [theme=dark] .colab-df-convert:hover {\n",
              "      background-color: #434B5C;\n",
              "      box-shadow: 0px 1px 3px 1px rgba(0, 0, 0, 0.15);\n",
              "      filter: drop-shadow(0px 1px 2px rgba(0, 0, 0, 0.3));\n",
              "      fill: #FFFFFF;\n",
              "    }\n",
              "  </style>\n",
              "\n",
              "      <script>\n",
              "        const buttonEl =\n",
              "          document.querySelector('#df-6827b993-d9ad-4ccc-94ac-dc2f14ca69f7 button.colab-df-convert');\n",
              "        buttonEl.style.display =\n",
              "          google.colab.kernel.accessAllowed ? 'block' : 'none';\n",
              "\n",
              "        async function convertToInteractive(key) {\n",
              "          const element = document.querySelector('#df-6827b993-d9ad-4ccc-94ac-dc2f14ca69f7');\n",
              "          const dataTable =\n",
              "            await google.colab.kernel.invokeFunction('convertToInteractive',\n",
              "                                                     [key], {});\n",
              "          if (!dataTable) return;\n",
              "\n",
              "          const docLinkHtml = 'Like what you see? Visit the ' +\n",
              "            '<a target=\"_blank\" href=https://colab.research.google.com/notebooks/data_table.ipynb>data table notebook</a>'\n",
              "            + ' to learn more about interactive tables.';\n",
              "          element.innerHTML = '';\n",
              "          dataTable['output_type'] = 'display_data';\n",
              "          await google.colab.output.renderOutput(dataTable, element);\n",
              "          const docLink = document.createElement('div');\n",
              "          docLink.innerHTML = docLinkHtml;\n",
              "          element.appendChild(docLink);\n",
              "        }\n",
              "      </script>\n",
              "    </div>\n",
              "  </div>\n",
              "  "
            ]
          },
          "metadata": {},
          "execution_count": 16
        }
      ]
    },
    {
      "cell_type": "code",
      "source": [
        "# 상대평가\n",
        "s1 = fs.fn_score(data, by='PER', method='relative', floor=1, cap=10, asc=True) # PER 기준 상대점수 계산\n",
        "s2 = fs.fn_score(data, by='PBR', method='relative', floor=.1, cap=1, asc=True) # PBR 기준 상대점수 계산"
      ],
      "metadata": {
        "id": "ZzG52SKo0H8P"
      },
      "execution_count": 17,
      "outputs": []
    },
    {
      "cell_type": "code",
      "source": [
        "print(s1) # PER 기준 상대함수 확인"
      ],
      "metadata": {
        "colab": {
          "base_uri": "https://localhost:8080/"
        },
        "id": "S9-Vi6tO0szO",
        "outputId": "829300e8-de3a-48da-c7fb-cfb6cfd54778"
      },
      "execution_count": 18,
      "outputs": [
        {
          "output_type": "stream",
          "name": "stdout",
          "text": [
            "              PER  Score\n",
            "symbol                  \n",
            "MFG      1.101084  100.0\n",
            "ASTL     1.141499   99.8\n",
            "MITT     1.164773   99.7\n",
            "COHN     1.197251   99.5\n",
            "QD       1.212500   99.4\n",
            "...           ...    ...\n",
            "HNNA     9.971963    0.6\n",
            "WBK      9.990282    0.5\n",
            "OSBC     9.992063    0.3\n",
            "INTC    10.000000    0.2\n",
            "BDSI    10.000000    0.2\n",
            "\n",
            "[645 rows x 2 columns]\n"
          ]
        }
      ]
    },
    {
      "cell_type": "code",
      "source": [
        "print(s2) # PBR 기준 상대함수 확인"
      ],
      "metadata": {
        "colab": {
          "base_uri": "https://localhost:8080/"
        },
        "id": "8rKXCI140v6G",
        "outputId": "91aad3df-73b9-4836-ea3d-27e9577cf41c"
      },
      "execution_count": 19,
      "outputs": [
        {
          "output_type": "stream",
          "name": "stdout",
          "text": [
            "             PBR  Score\n",
            "symbol                 \n",
            "ICD     0.100246  100.0\n",
            "TNP     0.105982   99.9\n",
            "RVI     0.115185   99.7\n",
            "QD      0.126433   99.6\n",
            "RCEL    0.133777   99.4\n",
            "...          ...    ...\n",
            "WHF     0.998371    0.7\n",
            "BCBP    0.998491    0.6\n",
            "CARE    0.998777    0.4\n",
            "ADV     0.999052    0.3\n",
            "TRVG    0.999495    0.1\n",
            "\n",
            "[686 rows x 2 columns]\n"
          ]
        }
      ]
    },
    {
      "cell_type": "code",
      "source": [
        "fs.combine_score(s1, s2, n=10) # 상대 합산 점수 계산 상위 10개 종목"
      ],
      "metadata": {
        "colab": {
          "base_uri": "https://localhost:8080/",
          "height": 394
        },
        "id": "wZLyRK_i0ykq",
        "outputId": "af7d15a3-5fe0-46c7-e84f-1d8ea4824aad"
      },
      "execution_count": 20,
      "outputs": [
        {
          "output_type": "execute_result",
          "data": {
            "text/plain": [
              "        Score  Score_    Sum\n",
              "symbol                      \n",
              "QD      49.70   49.80  99.50\n",
              "GNW     47.45   49.65  97.10\n",
              "MITT    49.85   45.10  94.95\n",
              "COHN    49.75   45.20  94.95\n",
              "EDTK    46.75   47.75  94.50\n",
              "BHAT    47.60   46.20  93.80\n",
              "MFG     50.00   43.65  93.65\n",
              "GLOP    44.50   47.95  92.45\n",
              "WB      45.95   46.30  92.25\n",
              "NMM     49.20   42.95  92.15"
            ],
            "text/html": [
              "\n",
              "  <div id=\"df-5ed8b781-0644-438e-9057-0fb71f3eb7e2\">\n",
              "    <div class=\"colab-df-container\">\n",
              "      <div>\n",
              "<style scoped>\n",
              "    .dataframe tbody tr th:only-of-type {\n",
              "        vertical-align: middle;\n",
              "    }\n",
              "\n",
              "    .dataframe tbody tr th {\n",
              "        vertical-align: top;\n",
              "    }\n",
              "\n",
              "    .dataframe thead th {\n",
              "        text-align: right;\n",
              "    }\n",
              "</style>\n",
              "<table border=\"1\" class=\"dataframe\">\n",
              "  <thead>\n",
              "    <tr style=\"text-align: right;\">\n",
              "      <th></th>\n",
              "      <th>Score</th>\n",
              "      <th>Score_</th>\n",
              "      <th>Sum</th>\n",
              "    </tr>\n",
              "    <tr>\n",
              "      <th>symbol</th>\n",
              "      <th></th>\n",
              "      <th></th>\n",
              "      <th></th>\n",
              "    </tr>\n",
              "  </thead>\n",
              "  <tbody>\n",
              "    <tr>\n",
              "      <th>QD</th>\n",
              "      <td>49.70</td>\n",
              "      <td>49.80</td>\n",
              "      <td>99.50</td>\n",
              "    </tr>\n",
              "    <tr>\n",
              "      <th>GNW</th>\n",
              "      <td>47.45</td>\n",
              "      <td>49.65</td>\n",
              "      <td>97.10</td>\n",
              "    </tr>\n",
              "    <tr>\n",
              "      <th>MITT</th>\n",
              "      <td>49.85</td>\n",
              "      <td>45.10</td>\n",
              "      <td>94.95</td>\n",
              "    </tr>\n",
              "    <tr>\n",
              "      <th>COHN</th>\n",
              "      <td>49.75</td>\n",
              "      <td>45.20</td>\n",
              "      <td>94.95</td>\n",
              "    </tr>\n",
              "    <tr>\n",
              "      <th>EDTK</th>\n",
              "      <td>46.75</td>\n",
              "      <td>47.75</td>\n",
              "      <td>94.50</td>\n",
              "    </tr>\n",
              "    <tr>\n",
              "      <th>BHAT</th>\n",
              "      <td>47.60</td>\n",
              "      <td>46.20</td>\n",
              "      <td>93.80</td>\n",
              "    </tr>\n",
              "    <tr>\n",
              "      <th>MFG</th>\n",
              "      <td>50.00</td>\n",
              "      <td>43.65</td>\n",
              "      <td>93.65</td>\n",
              "    </tr>\n",
              "    <tr>\n",
              "      <th>GLOP</th>\n",
              "      <td>44.50</td>\n",
              "      <td>47.95</td>\n",
              "      <td>92.45</td>\n",
              "    </tr>\n",
              "    <tr>\n",
              "      <th>WB</th>\n",
              "      <td>45.95</td>\n",
              "      <td>46.30</td>\n",
              "      <td>92.25</td>\n",
              "    </tr>\n",
              "    <tr>\n",
              "      <th>NMM</th>\n",
              "      <td>49.20</td>\n",
              "      <td>42.95</td>\n",
              "      <td>92.15</td>\n",
              "    </tr>\n",
              "  </tbody>\n",
              "</table>\n",
              "</div>\n",
              "      <button class=\"colab-df-convert\" onclick=\"convertToInteractive('df-5ed8b781-0644-438e-9057-0fb71f3eb7e2')\"\n",
              "              title=\"Convert this dataframe to an interactive table.\"\n",
              "              style=\"display:none;\">\n",
              "        \n",
              "  <svg xmlns=\"http://www.w3.org/2000/svg\" height=\"24px\"viewBox=\"0 0 24 24\"\n",
              "       width=\"24px\">\n",
              "    <path d=\"M0 0h24v24H0V0z\" fill=\"none\"/>\n",
              "    <path d=\"M18.56 5.44l.94 2.06.94-2.06 2.06-.94-2.06-.94-.94-2.06-.94 2.06-2.06.94zm-11 1L8.5 8.5l.94-2.06 2.06-.94-2.06-.94L8.5 2.5l-.94 2.06-2.06.94zm10 10l.94 2.06.94-2.06 2.06-.94-2.06-.94-.94-2.06-.94 2.06-2.06.94z\"/><path d=\"M17.41 7.96l-1.37-1.37c-.4-.4-.92-.59-1.43-.59-.52 0-1.04.2-1.43.59L10.3 9.45l-7.72 7.72c-.78.78-.78 2.05 0 2.83L4 21.41c.39.39.9.59 1.41.59.51 0 1.02-.2 1.41-.59l7.78-7.78 2.81-2.81c.8-.78.8-2.07 0-2.86zM5.41 20L4 18.59l7.72-7.72 1.47 1.35L5.41 20z\"/>\n",
              "  </svg>\n",
              "      </button>\n",
              "      \n",
              "  <style>\n",
              "    .colab-df-container {\n",
              "      display:flex;\n",
              "      flex-wrap:wrap;\n",
              "      gap: 12px;\n",
              "    }\n",
              "\n",
              "    .colab-df-convert {\n",
              "      background-color: #E8F0FE;\n",
              "      border: none;\n",
              "      border-radius: 50%;\n",
              "      cursor: pointer;\n",
              "      display: none;\n",
              "      fill: #1967D2;\n",
              "      height: 32px;\n",
              "      padding: 0 0 0 0;\n",
              "      width: 32px;\n",
              "    }\n",
              "\n",
              "    .colab-df-convert:hover {\n",
              "      background-color: #E2EBFA;\n",
              "      box-shadow: 0px 1px 2px rgba(60, 64, 67, 0.3), 0px 1px 3px 1px rgba(60, 64, 67, 0.15);\n",
              "      fill: #174EA6;\n",
              "    }\n",
              "\n",
              "    [theme=dark] .colab-df-convert {\n",
              "      background-color: #3B4455;\n",
              "      fill: #D2E3FC;\n",
              "    }\n",
              "\n",
              "    [theme=dark] .colab-df-convert:hover {\n",
              "      background-color: #434B5C;\n",
              "      box-shadow: 0px 1px 3px 1px rgba(0, 0, 0, 0.15);\n",
              "      filter: drop-shadow(0px 1px 2px rgba(0, 0, 0, 0.3));\n",
              "      fill: #FFFFFF;\n",
              "    }\n",
              "  </style>\n",
              "\n",
              "      <script>\n",
              "        const buttonEl =\n",
              "          document.querySelector('#df-5ed8b781-0644-438e-9057-0fb71f3eb7e2 button.colab-df-convert');\n",
              "        buttonEl.style.display =\n",
              "          google.colab.kernel.accessAllowed ? 'block' : 'none';\n",
              "\n",
              "        async function convertToInteractive(key) {\n",
              "          const element = document.querySelector('#df-5ed8b781-0644-438e-9057-0fb71f3eb7e2');\n",
              "          const dataTable =\n",
              "            await google.colab.kernel.invokeFunction('convertToInteractive',\n",
              "                                                     [key], {});\n",
              "          if (!dataTable) return;\n",
              "\n",
              "          const docLinkHtml = 'Like what you see? Visit the ' +\n",
              "            '<a target=\"_blank\" href=https://colab.research.google.com/notebooks/data_table.ipynb>data table notebook</a>'\n",
              "            + ' to learn more about interactive tables.';\n",
              "          element.innerHTML = '';\n",
              "          dataTable['output_type'] = 'display_data';\n",
              "          await google.colab.output.renderOutput(dataTable, element);\n",
              "          const docLink = document.createElement('div');\n",
              "          docLink.innerHTML = docLinkHtml;\n",
              "          element.appendChild(docLink);\n",
              "        }\n",
              "      </script>\n",
              "    </div>\n",
              "  </div>\n",
              "  "
            ]
          },
          "metadata": {},
          "execution_count": 20
        }
      ]
    },
    {
      "cell_type": "markdown",
      "source": [
        "# 4. 가치투자 4대장 콤보\n",
        ": 4가지 방법(PER, PBR, PSR, PCR 지표)을 한 번에 섞어서 사용\n",
        "\n",
        "### [슈퍼가치전략]\n",
        "1. *시가총액(= 주식x주식수) 하위 20% 주식*을 뽑아냄\n",
        "2. 뽑아낸 주식을 대상으로 PER, PBR, PSR, PCR 지표 순위를 매김\n",
        "3. 네 지표의 순위를 더해 종합 순위를 매김\n",
        "4. *종합 순위가 높은 상위 50개 종목*에 투자\n",
        "5. 연 1회 리밸런싱하기\n"
      ],
      "metadata": {
        "id": "jIx3lRYR1GWD"
      }
    },
    {
      "cell_type": "code",
      "source": [
        "terms = fs.set_terms(trade_start='2011Q1', trade_end='2021Q1') # 2011년 1분기 ~ 2021년 1분기\n",
        "terms"
      ],
      "metadata": {
        "colab": {
          "base_uri": "https://localhost:8080/"
        },
        "id": "d0XLvNJ_0__O",
        "outputId": "26f8ef57-eac5-42b1-db74-0a4741f876ad"
      },
      "execution_count": 21,
      "outputs": [
        {
          "output_type": "execute_result",
          "data": {
            "text/plain": [
              "Index(['2010Q4', '2011Q1', '2011Q2', '2011Q3', '2011Q4', '2012Q1', '2012Q2',\n",
              "       '2012Q3', '2012Q4', '2013Q1', '2013Q2', '2013Q3', '2013Q4', '2014Q1',\n",
              "       '2014Q2', '2014Q3', '2014Q4', '2015Q1', '2015Q2', '2015Q3', '2015Q4',\n",
              "       '2016Q1', '2016Q2', '2016Q3', '2016Q4', '2017Q1', '2017Q2', '2017Q3',\n",
              "       '2017Q4', '2018Q1', '2018Q2', '2018Q3', '2018Q4', '2019Q1', '2019Q2',\n",
              "       '2019Q3', '2019Q4', '2020Q1', '2020Q2', '2020Q3', '2020Q4'],\n",
              "      dtype='object')"
            ]
          },
          "metadata": {},
          "execution_count": 21
        }
      ]
    },
    {
      "cell_type": "code",
      "source": [
        "# 분기별 재무제표 데이터 불러오기\n",
        "data = {}\n",
        "for t in terms:\n",
        "  data[t] = fs.fn_consolidated(otp=OTP, term=t)"
      ],
      "metadata": {
        "colab": {
          "base_uri": "https://localhost:8080/"
        },
        "id": "sFJCDbDR2m0C",
        "outputId": "47e1e3e4-961d-4d3e-d323-5405c76107db"
      },
      "execution_count": 22,
      "outputs": [
        {
          "output_type": "stream",
          "name": "stdout",
          "text": [
            "2010Q4...OK\n",
            "2011Q1...OK\n",
            "2011Q2...OK\n",
            "2011Q3...OK\n",
            "2011Q4...OK\n",
            "2012Q1...OK\n",
            "2012Q2...OK\n",
            "2012Q3...OK\n",
            "2012Q4...OK\n",
            "2013Q1...OK\n",
            "2013Q2...OK\n",
            "2013Q3...OK\n",
            "2013Q4...OK\n",
            "2014Q1...OK\n",
            "2014Q2...OK\n",
            "2014Q3...OK\n",
            "2014Q4...OK\n",
            "2015Q1...OK\n",
            "2015Q2...OK\n",
            "2015Q3...OK\n",
            "2015Q4...OK\n",
            "2016Q1...OK\n",
            "2016Q2...OK\n",
            "2016Q3...OK\n",
            "2016Q4...OK\n",
            "2017Q1...OK\n",
            "2017Q2...OK\n",
            "2017Q3...OK\n",
            "2017Q4...OK\n",
            "2018Q1...OK\n",
            "2018Q2...OK\n",
            "2018Q3...OK\n",
            "2018Q4...OK\n",
            "2019Q1...OK\n",
            "2019Q2...OK\n",
            "2019Q3...OK\n",
            "2019Q4...OK\n",
            "2020Q1...OK\n",
            "2020Q2...OK\n",
            "2020Q3...OK\n",
            "2020Q4...OK\n"
          ]
        }
      ]
    },
    {
      "cell_type": "code",
      "source": [
        "# 시가총액, PER, PBR, PSR, PCR 계산 (주가는 모두 3개월 후 주가(Price_M3)를 이용)\n",
        "for t in terms:\n",
        "  data[t]['Market Cap'] = data[t]['Price_M3'] + data[t]['Shares'] # 시가총액 계싼\n",
        "  data[t]['PER'] = data[t]['Price_M3'] / data[t]['EPS'] # PER 계산\n",
        "  data[t]['PBR'] = data[t]['Price_M3'] / (data[t]['Shareholders Equity'] / data[t]['Shares']) # PBR 계산\n",
        "  data[t]['PSR'] = data[t]['Price_M3'] / (data[t]['Revenue'] / data[t]['Shares']) # PSR 계산\n",
        "  data[t]['PCR'] = data[t]['Price_M3'] / ((data[t]['Net Income'] + data[t]['Depreciation']) / data[t]['Shares']) # PCR 계산"
      ],
      "metadata": {
        "id": "ynMAyryw22SH"
      },
      "execution_count": 23,
      "outputs": []
    },
    {
      "cell_type": "code",
      "source": [
        "data['2020Q4'].sort_values(by='Market Cap', ascending=False).head() # 시가총액을 기준으로 내림차순 정렬"
      ],
      "metadata": {
        "colab": {
          "base_uri": "https://localhost:8080/",
          "height": 432
        },
        "id": "jGWH_ITm7CYp",
        "outputId": "98b46943-2603-4ebf-be35-e03f15cc69fc"
      },
      "execution_count": 25,
      "outputs": [
        {
          "output_type": "execute_result",
          "data": {
            "text/plain": [
              "          term   Revenue       COGS  Gross Profit      SG&A  Operating Income  \\\n",
              "symbol                                                                          \n",
              "AMX     2020Q4   48024.4   24375.90      23648.50  10010.70           8289.00   \n",
              "EC      2020Q4   65290.4   48837.70      16452.70   4385.10           9336.29   \n",
              "AAPL    2020Q4  294239.0  179823.00     114416.00  20350.00          74253.00   \n",
              "ABEV    2020Q4   11492.7    5428.27       6064.44   3355.91           3184.49   \n",
              "CX      2020Q4   13065.5    8853.19       4212.35   2742.52           -436.00   \n",
              "\n",
              "        Net Income     EPS      EBITDA      EBIT  ...  \\\n",
              "symbol                                            ...   \n",
              "AMX        2106.21  0.0981   9999.5500   8289.00  ...   \n",
              "EC         2062.68  0.2100  21458.2000   9336.29  ...   \n",
              "AAPL      63930.00  3.7175  85508.0000  74253.00  ...   \n",
              "ABEV       2206.29  0.1429   3719.0400   3184.49  ...   \n",
              "CX        -1464.69 -1.0250    -92.9819   -436.00  ...   \n",
              "\n",
              "                                        name            name_kr  \\\n",
              "symbol                                                            \n",
              "AMX     America Movil SAB de CV ADR Series L  아메리카 모빌 ADR 시리즈 L   \n",
              "EC                          Ecopetrol SA ADR          에코페트롤 ADR   \n",
              "AAPL                               Apple Inc                 애플   \n",
              "ABEV                            Ambev SA ADR            암베브 ADR   \n",
              "CX                       Cemex SAB de CV ADR            시멕스 ADR   \n",
              "\n",
              "                        sector              industry  avg_volume  Market Cap  \\\n",
              "symbol                                                                         \n",
              "AMX     Communication Services      Telecom Services     3185430    66876.58   \n",
              "EC                      Energy  Oil & Gas Integrated     1051900    41129.82   \n",
              "AAPL                Technology  Consumer Electronics   186217000    17057.15   \n",
              "ABEV        Consumer Defensive     Beverages Brewers    27012500    15737.74   \n",
              "CX             Basic Materials    Building Materials    10225900    14714.97   \n",
              "\n",
              "               PER        PBR        PSR         PCR  \n",
              "symbol                                                \n",
              "AMX     138.430173  72.138457  18.907046   95.587351  \n",
              "EC       61.047619   7.579094   8.073468   37.161477  \n",
              "AAPL     32.858104  31.236565   7.030374   27.641914  \n",
              "ABEV     19.174248   2.957200   3.751416   13.436270  \n",
              "CX       -6.800000  12.679106   7.846218 -935.780557  \n",
              "\n",
              "[5 rows x 43 columns]"
            ],
            "text/html": [
              "\n",
              "  <div id=\"df-033b53a2-1afb-4474-b604-270414a6dd97\">\n",
              "    <div class=\"colab-df-container\">\n",
              "      <div>\n",
              "<style scoped>\n",
              "    .dataframe tbody tr th:only-of-type {\n",
              "        vertical-align: middle;\n",
              "    }\n",
              "\n",
              "    .dataframe tbody tr th {\n",
              "        vertical-align: top;\n",
              "    }\n",
              "\n",
              "    .dataframe thead th {\n",
              "        text-align: right;\n",
              "    }\n",
              "</style>\n",
              "<table border=\"1\" class=\"dataframe\">\n",
              "  <thead>\n",
              "    <tr style=\"text-align: right;\">\n",
              "      <th></th>\n",
              "      <th>term</th>\n",
              "      <th>Revenue</th>\n",
              "      <th>COGS</th>\n",
              "      <th>Gross Profit</th>\n",
              "      <th>SG&amp;A</th>\n",
              "      <th>Operating Income</th>\n",
              "      <th>Net Income</th>\n",
              "      <th>EPS</th>\n",
              "      <th>EBITDA</th>\n",
              "      <th>EBIT</th>\n",
              "      <th>...</th>\n",
              "      <th>name</th>\n",
              "      <th>name_kr</th>\n",
              "      <th>sector</th>\n",
              "      <th>industry</th>\n",
              "      <th>avg_volume</th>\n",
              "      <th>Market Cap</th>\n",
              "      <th>PER</th>\n",
              "      <th>PBR</th>\n",
              "      <th>PSR</th>\n",
              "      <th>PCR</th>\n",
              "    </tr>\n",
              "    <tr>\n",
              "      <th>symbol</th>\n",
              "      <th></th>\n",
              "      <th></th>\n",
              "      <th></th>\n",
              "      <th></th>\n",
              "      <th></th>\n",
              "      <th></th>\n",
              "      <th></th>\n",
              "      <th></th>\n",
              "      <th></th>\n",
              "      <th></th>\n",
              "      <th></th>\n",
              "      <th></th>\n",
              "      <th></th>\n",
              "      <th></th>\n",
              "      <th></th>\n",
              "      <th></th>\n",
              "      <th></th>\n",
              "      <th></th>\n",
              "      <th></th>\n",
              "      <th></th>\n",
              "      <th></th>\n",
              "    </tr>\n",
              "  </thead>\n",
              "  <tbody>\n",
              "    <tr>\n",
              "      <th>AMX</th>\n",
              "      <td>2020Q4</td>\n",
              "      <td>48024.4</td>\n",
              "      <td>24375.90</td>\n",
              "      <td>23648.50</td>\n",
              "      <td>10010.70</td>\n",
              "      <td>8289.00</td>\n",
              "      <td>2106.21</td>\n",
              "      <td>0.0981</td>\n",
              "      <td>9999.5500</td>\n",
              "      <td>8289.00</td>\n",
              "      <td>...</td>\n",
              "      <td>America Movil SAB de CV ADR Series L</td>\n",
              "      <td>아메리카 모빌 ADR 시리즈 L</td>\n",
              "      <td>Communication Services</td>\n",
              "      <td>Telecom Services</td>\n",
              "      <td>3185430</td>\n",
              "      <td>66876.58</td>\n",
              "      <td>138.430173</td>\n",
              "      <td>72.138457</td>\n",
              "      <td>18.907046</td>\n",
              "      <td>95.587351</td>\n",
              "    </tr>\n",
              "    <tr>\n",
              "      <th>EC</th>\n",
              "      <td>2020Q4</td>\n",
              "      <td>65290.4</td>\n",
              "      <td>48837.70</td>\n",
              "      <td>16452.70</td>\n",
              "      <td>4385.10</td>\n",
              "      <td>9336.29</td>\n",
              "      <td>2062.68</td>\n",
              "      <td>0.2100</td>\n",
              "      <td>21458.2000</td>\n",
              "      <td>9336.29</td>\n",
              "      <td>...</td>\n",
              "      <td>Ecopetrol SA ADR</td>\n",
              "      <td>에코페트롤 ADR</td>\n",
              "      <td>Energy</td>\n",
              "      <td>Oil &amp; Gas Integrated</td>\n",
              "      <td>1051900</td>\n",
              "      <td>41129.82</td>\n",
              "      <td>61.047619</td>\n",
              "      <td>7.579094</td>\n",
              "      <td>8.073468</td>\n",
              "      <td>37.161477</td>\n",
              "    </tr>\n",
              "    <tr>\n",
              "      <th>AAPL</th>\n",
              "      <td>2020Q4</td>\n",
              "      <td>294239.0</td>\n",
              "      <td>179823.00</td>\n",
              "      <td>114416.00</td>\n",
              "      <td>20350.00</td>\n",
              "      <td>74253.00</td>\n",
              "      <td>63930.00</td>\n",
              "      <td>3.7175</td>\n",
              "      <td>85508.0000</td>\n",
              "      <td>74253.00</td>\n",
              "      <td>...</td>\n",
              "      <td>Apple Inc</td>\n",
              "      <td>애플</td>\n",
              "      <td>Technology</td>\n",
              "      <td>Consumer Electronics</td>\n",
              "      <td>186217000</td>\n",
              "      <td>17057.15</td>\n",
              "      <td>32.858104</td>\n",
              "      <td>31.236565</td>\n",
              "      <td>7.030374</td>\n",
              "      <td>27.641914</td>\n",
              "    </tr>\n",
              "    <tr>\n",
              "      <th>ABEV</th>\n",
              "      <td>2020Q4</td>\n",
              "      <td>11492.7</td>\n",
              "      <td>5428.27</td>\n",
              "      <td>6064.44</td>\n",
              "      <td>3355.91</td>\n",
              "      <td>3184.49</td>\n",
              "      <td>2206.29</td>\n",
              "      <td>0.1429</td>\n",
              "      <td>3719.0400</td>\n",
              "      <td>3184.49</td>\n",
              "      <td>...</td>\n",
              "      <td>Ambev SA ADR</td>\n",
              "      <td>암베브 ADR</td>\n",
              "      <td>Consumer Defensive</td>\n",
              "      <td>Beverages Brewers</td>\n",
              "      <td>27012500</td>\n",
              "      <td>15737.74</td>\n",
              "      <td>19.174248</td>\n",
              "      <td>2.957200</td>\n",
              "      <td>3.751416</td>\n",
              "      <td>13.436270</td>\n",
              "    </tr>\n",
              "    <tr>\n",
              "      <th>CX</th>\n",
              "      <td>2020Q4</td>\n",
              "      <td>13065.5</td>\n",
              "      <td>8853.19</td>\n",
              "      <td>4212.35</td>\n",
              "      <td>2742.52</td>\n",
              "      <td>-436.00</td>\n",
              "      <td>-1464.69</td>\n",
              "      <td>-1.0250</td>\n",
              "      <td>-92.9819</td>\n",
              "      <td>-436.00</td>\n",
              "      <td>...</td>\n",
              "      <td>Cemex SAB de CV ADR</td>\n",
              "      <td>시멕스 ADR</td>\n",
              "      <td>Basic Materials</td>\n",
              "      <td>Building Materials</td>\n",
              "      <td>10225900</td>\n",
              "      <td>14714.97</td>\n",
              "      <td>-6.800000</td>\n",
              "      <td>12.679106</td>\n",
              "      <td>7.846218</td>\n",
              "      <td>-935.780557</td>\n",
              "    </tr>\n",
              "  </tbody>\n",
              "</table>\n",
              "<p>5 rows × 43 columns</p>\n",
              "</div>\n",
              "      <button class=\"colab-df-convert\" onclick=\"convertToInteractive('df-033b53a2-1afb-4474-b604-270414a6dd97')\"\n",
              "              title=\"Convert this dataframe to an interactive table.\"\n",
              "              style=\"display:none;\">\n",
              "        \n",
              "  <svg xmlns=\"http://www.w3.org/2000/svg\" height=\"24px\"viewBox=\"0 0 24 24\"\n",
              "       width=\"24px\">\n",
              "    <path d=\"M0 0h24v24H0V0z\" fill=\"none\"/>\n",
              "    <path d=\"M18.56 5.44l.94 2.06.94-2.06 2.06-.94-2.06-.94-.94-2.06-.94 2.06-2.06.94zm-11 1L8.5 8.5l.94-2.06 2.06-.94-2.06-.94L8.5 2.5l-.94 2.06-2.06.94zm10 10l.94 2.06.94-2.06 2.06-.94-2.06-.94-.94-2.06-.94 2.06-2.06.94z\"/><path d=\"M17.41 7.96l-1.37-1.37c-.4-.4-.92-.59-1.43-.59-.52 0-1.04.2-1.43.59L10.3 9.45l-7.72 7.72c-.78.78-.78 2.05 0 2.83L4 21.41c.39.39.9.59 1.41.59.51 0 1.02-.2 1.41-.59l7.78-7.78 2.81-2.81c.8-.78.8-2.07 0-2.86zM5.41 20L4 18.59l7.72-7.72 1.47 1.35L5.41 20z\"/>\n",
              "  </svg>\n",
              "      </button>\n",
              "      \n",
              "  <style>\n",
              "    .colab-df-container {\n",
              "      display:flex;\n",
              "      flex-wrap:wrap;\n",
              "      gap: 12px;\n",
              "    }\n",
              "\n",
              "    .colab-df-convert {\n",
              "      background-color: #E8F0FE;\n",
              "      border: none;\n",
              "      border-radius: 50%;\n",
              "      cursor: pointer;\n",
              "      display: none;\n",
              "      fill: #1967D2;\n",
              "      height: 32px;\n",
              "      padding: 0 0 0 0;\n",
              "      width: 32px;\n",
              "    }\n",
              "\n",
              "    .colab-df-convert:hover {\n",
              "      background-color: #E2EBFA;\n",
              "      box-shadow: 0px 1px 2px rgba(60, 64, 67, 0.3), 0px 1px 3px 1px rgba(60, 64, 67, 0.15);\n",
              "      fill: #174EA6;\n",
              "    }\n",
              "\n",
              "    [theme=dark] .colab-df-convert {\n",
              "      background-color: #3B4455;\n",
              "      fill: #D2E3FC;\n",
              "    }\n",
              "\n",
              "    [theme=dark] .colab-df-convert:hover {\n",
              "      background-color: #434B5C;\n",
              "      box-shadow: 0px 1px 3px 1px rgba(0, 0, 0, 0.15);\n",
              "      filter: drop-shadow(0px 1px 2px rgba(0, 0, 0, 0.3));\n",
              "      fill: #FFFFFF;\n",
              "    }\n",
              "  </style>\n",
              "\n",
              "      <script>\n",
              "        const buttonEl =\n",
              "          document.querySelector('#df-033b53a2-1afb-4474-b604-270414a6dd97 button.colab-df-convert');\n",
              "        buttonEl.style.display =\n",
              "          google.colab.kernel.accessAllowed ? 'block' : 'none';\n",
              "\n",
              "        async function convertToInteractive(key) {\n",
              "          const element = document.querySelector('#df-033b53a2-1afb-4474-b604-270414a6dd97');\n",
              "          const dataTable =\n",
              "            await google.colab.kernel.invokeFunction('convertToInteractive',\n",
              "                                                     [key], {});\n",
              "          if (!dataTable) return;\n",
              "\n",
              "          const docLinkHtml = 'Like what you see? Visit the ' +\n",
              "            '<a target=\"_blank\" href=https://colab.research.google.com/notebooks/data_table.ipynb>data table notebook</a>'\n",
              "            + ' to learn more about interactive tables.';\n",
              "          element.innerHTML = '';\n",
              "          dataTable['output_type'] = 'display_data';\n",
              "          await google.colab.output.renderOutput(dataTable, element);\n",
              "          const docLink = document.createElement('div');\n",
              "          docLink.innerHTML = docLinkHtml;\n",
              "          element.appendChild(docLink);\n",
              "        }\n",
              "      </script>\n",
              "    </div>\n",
              "  </div>\n",
              "  "
            ]
          },
          "metadata": {},
          "execution_count": 25
        }
      ]
    },
    {
      "cell_type": "markdown",
      "source": [
        "* 소형주를 뽑아내기 위해 시가총액 기준으로 필터링하고, PER, PBR, PSR, PCR의 상대 점수를 구하기\n",
        "* 매겨진 점수는 각 s1~5까지 딕셔너리에 저장"
      ],
      "metadata": {
        "id": "Srjf8U0S8GkB"
      }
    },
    {
      "cell_type": "code",
      "source": [
        "s1 = {}\n",
        "s2 = {}\n",
        "s3 = {}\n",
        "s4 = {}\n",
        "s5 = {}\n",
        "\n",
        "for t in terms:\n",
        "  s1[t] = fs.fn_filter(data[t], by='Market Cap', floor=0, n=1000, asc=True) # 시가총액 하위 1000개 종목 선정\n",
        "  s2[t] = fs.fn_score(data[t], by='PER', method='relative', floor=1, asc=True) # PER 기준 상대점수 계산\n",
        "  s3[t] = fs.fn_score(data[t], by='PBR', method='relative', floor=.1, asc=True) # PBR 기준 상대점수 계산\n",
        "  s4[t] = fs.fn_score(data[t], by='PSR', method='relative', floor=.1, asc=True) # PSR 기준 상대점수 계산\n",
        "  s5[t] = fs.fn_score(data[t], by='PCR', method='relative', floor=.1, asc=True) # PCR 기준 상대점수 계산"
      ],
      "metadata": {
        "id": "V8tiQ2v67f-C"
      },
      "execution_count": 26,
      "outputs": []
    },
    {
      "cell_type": "markdown",
      "source": [
        "* PER, PBR, PSR, PCR은 각각 매겨진 점수를 조합해 합산 점수를 만듦\n",
        "* s6 딕셔너리에는 4대장 콤보의 합산 점수가 담겨있음"
      ],
      "metadata": {
        "id": "dVyWHwXm856-"
      }
    },
    {
      "cell_type": "code",
      "source": [
        "s6 = {}\n",
        "for t in terms:\n",
        "  s6[t] = fs.combine_score(s2[t], s3[t], s4[t], s5[t]) # PER, PBR, PSR, PCR 기준 상대점수 합산"
      ],
      "metadata": {
        "id": "Er-hEgiA8wty"
      },
      "execution_count": 27,
      "outputs": []
    },
    {
      "cell_type": "markdown",
      "source": [
        "* *소형주만* 골라낸 후 점수가 높은 순서대로 *상위 50개*를 뽑아내기\n",
        "* 최종 조합은 s 딕셔너리에 담기\n",
        "* s1와 s6의 조합을 만들 때는 합산 점수가 아닌 *교집합*을 구하기\n",
        "* 교집합을 하기 위해 **combine_signal() 함수**를 이용해 *분기별 50개 종목* 선정"
      ],
      "metadata": {
        "id": "1A6la9Mv9P0u"
      }
    },
    {
      "cell_type": "code",
      "source": [
        "s = {}\n",
        "signal = {}\n",
        "\n",
        "for t in terms:\n",
        "  s[t] = fs.combine_signal(s6[t], s1[t], how='and', n=50) # 상대점수 합산 후 하위 50개 종목 선정\n",
        "  signal[t] = list(s[t].index) # 선정된 종목 저장"
      ],
      "metadata": {
        "id": "6TjFHOUR9Myg"
      },
      "execution_count": 28,
      "outputs": []
    },
    {
      "cell_type": "code",
      "source": [
        "df = fs.backtest(signal=signal, data=data, m=3, cost=.001) # 백테스팅 -> 좋은 결과는 아님"
      ],
      "metadata": {
        "colab": {
          "base_uri": "https://localhost:8080/"
        },
        "id": "vRbsC31J9voW",
        "outputId": "8648d291-8880-4337-a2fe-44aaf16585a5"
      },
      "execution_count": 29,
      "outputs": [
        {
          "output_type": "stream",
          "name": "stdout",
          "text": [
            "CAGR: 12.27%\n",
            "Accumulated return: 218.50%\n",
            "Investment period: 10.0yrs\n",
            "Sharpe ratio: 0.72\n",
            "MDD: -43.96%\n"
          ]
        }
      ]
    },
    {
      "cell_type": "code",
      "source": [
        "fs.draw_return(df) # 기간별 수익률 그래프 그려보기"
      ],
      "metadata": {
        "colab": {
          "base_uri": "https://localhost:8080/",
          "height": 359
        },
        "id": "65-HXPRp-cb2",
        "outputId": "54df0bbd-0925-495e-d142-a5a142adfe6c"
      },
      "execution_count": 30,
      "outputs": [
        {
          "output_type": "display_data",
          "data": {
            "text/plain": [
              "<Figure size 720x360 with 2 Axes>"
            ],
            "image/png": "[encoded data removed]"
          },
          "metadata": {
            "needs_background": "light"
          }
        }
      ]
    },
    {
      "cell_type": "markdown",
      "source": [
        "-> 2020년 1분기에 수익률이 반토막 나며 그 동안 쌓아올린 수익을 모두 날려버림 -> 코로나19 대폭락이 슈퍼가치전략을 완전히 무너뜨림 (그 이후 급격한 회복세를 그리며 수익률이 올라옴)"
      ],
      "metadata": {
        "id": "OWtHcrPe_jXo"
      }
    },
    {
      "cell_type": "code",
      "source": [
        "# 4대장 + 대형주 전략 코드 모아쓰기\n",
        "terms = fs.set_terms(trade_start='2011Q1', trade_end='2021Q1') # 2011년 1분기 ~ 2021년 1분기\n",
        "data = {}\n",
        "for t in terms:\n",
        "  data[t] = fs.fn_consolidated(otp=OTP, term=t)\n",
        "\n",
        "s1, s2, s3, s4, s5, s6 = {}, {}, {}, {}, {}, {}\n",
        "s, signal = {}, {}\n",
        "\n",
        "for t in terms:\n",
        "  data[t]['Market Cap'] = data[t]['Price_M3'] + data[t]['Shares'] # 시가총액 계싼\n",
        "  data[t]['PER'] = data[t]['Price_M3'] / data[t]['EPS'] # PER 계산\n",
        "  data[t]['PBR'] = data[t]['Price_M3'] / (data[t]['Shareholders Equity'] / data[t]['Shares']) # PBR 계산\n",
        "  data[t]['PSR'] = data[t]['Price_M3'] / (data[t]['Revenue'] / data[t]['Shares']) # PSR 계산\n",
        "  data[t]['PCR'] = data[t]['Price_M3'] / ((data[t]['Net Income'] + data[t]['Depreciation']) / data[t]['Shares']) # PCR 계산\n",
        "\n",
        "  s1[t] = fs.fn_filter(data[t], by='Market Cap', floor=0, n=1000, asc=False) # 시가총액 상위 1000개 종목 선정 (수정한 부분!)\n",
        "  s2[t] = fs.fn_score(data[t], by='PER', method='relative', floor=1, asc=True) # PER 기준 상대점수 계산\n",
        "  s3[t] = fs.fn_score(data[t], by='PBR', method='relative', floor=.1, asc=True) # PBR 기준 상대점수 계산\n",
        "  s4[t] = fs.fn_score(data[t], by='PSR', method='relative', floor=.1, asc=True) # PSR 기준 상대점수 계산\n",
        "  s5[t] = fs.fn_score(data[t], by='PCR', method='relative', floor=.1, asc=True) # PCR 기준 상대점수 계산\n",
        "\n",
        "  s6[t] = fs.combine_score(s2[t], s3[t], s4[t], s5[t]) # PER, PBR, PSR, PCR 기준 상대점수 합산\n",
        "\n",
        "  s[t] = fs.combine_signal(s6[t], s1[t], how='and', n=50) # 상대점수 합산 후 하위 50개 종목 선정\n",
        "  signal[t] = list(s[t].index) # 선정된 종목 저장\n",
        "\n",
        "df = fs.backtest(signal=signal, data=data, m=3, cost=.001) # 백테스팅 -> 좋은 결과는 아님"
      ],
      "metadata": {
        "colab": {
          "base_uri": "https://localhost:8080/"
        },
        "id": "QWuFhhUc_fHc",
        "outputId": "e7df3569-5a79-4637-cc95-4e011de24785"
      },
      "execution_count": 31,
      "outputs": [
        {
          "output_type": "stream",
          "name": "stdout",
          "text": [
            "2010Q4...OK\n",
            "2011Q1...OK\n",
            "2011Q2...OK\n",
            "2011Q3...OK\n",
            "2011Q4...OK\n",
            "2012Q1...OK\n",
            "2012Q2...OK\n",
            "2012Q3...OK\n",
            "2012Q4...OK\n",
            "2013Q1...OK\n",
            "2013Q2...OK\n",
            "2013Q3...OK\n",
            "2013Q4...OK\n",
            "2014Q1...OK\n",
            "2014Q2...OK\n",
            "2014Q3...OK\n",
            "2014Q4...OK\n",
            "2015Q1...OK\n",
            "2015Q2...OK\n",
            "2015Q3...OK\n",
            "2015Q4...OK\n",
            "2016Q1...OK\n",
            "2016Q2...OK\n",
            "2016Q3...OK\n",
            "2016Q4...OK\n",
            "2017Q1...OK\n",
            "2017Q2...OK\n",
            "2017Q3...OK\n",
            "2017Q4...OK\n",
            "2018Q1...OK\n",
            "2018Q2...OK\n",
            "2018Q3...OK\n",
            "2018Q4...OK\n",
            "2019Q1...OK\n",
            "2019Q2...OK\n",
            "2019Q3...OK\n",
            "2019Q4...OK\n",
            "2020Q1...OK\n",
            "2020Q2...OK\n",
            "2020Q3...OK\n",
            "2020Q4...OK\n",
            "CAGR: 6.97%\n",
            "Accumulated return: 96.34%\n",
            "Investment period: 10.0yrs\n",
            "Sharpe ratio: 0.37\n",
            "MDD: -45.76%\n"
          ]
        }
      ]
    },
    {
      "cell_type": "code",
      "source": [
        "fs.draw_return(df) # 기간별 수익률 그래프 그려보기"
      ],
      "metadata": {
        "colab": {
          "base_uri": "https://localhost:8080/",
          "height": 359
        },
        "id": "v2QUGEX7AncG",
        "outputId": "a36e12c4-a0d5-4e43-c17e-31912871c5e9"
      },
      "execution_count": 32,
      "outputs": [
        {
          "output_type": "display_data",
          "data": {
            "text/plain": [
              "<Figure size 720x360 with 2 Axes>"
            ],
            "image/png": "[encoded data removed]"
          },
          "metadata": {
            "needs_background": "light"
          }
        }
      ]
    },
    {
      "cell_type": "markdown",
      "source": [
        "-> 소형주로 했을 때보다 수익률이 더 내려갔으며 그래프를 보면 소형주에 투자했을 경우와 트렌드는 같지만, 상승의 속도가 다름 (상승장에서 소형주가 대형주보다 상승률이 더 높았다는 뜻)"
      ],
      "metadata": {
        "id": "vGSA1jztEBmn"
      }
    },
    {
      "cell_type": "markdown",
      "source": [
        "# 5. 실적 대비 기업가치, EV/EBITDA & EV/Sales\n",
        "\n",
        "* **EV(Enterprise Value)** : 지분가치와 더불어 부채까지 해결하는데 필요한 비용, *기업을 인수하는데 들어가는 총비용*\n",
        "  * EV = 시가총액 + 순차입금 = 시가총액 + (차입금 - 현금성자산)\n",
        "  * 다른 재무제표 지표와 결합해 멀티플을 만들어 기업가치를 상대평가 하는데 이용됨 (EV/EBITDA, EV/Sales)\n",
        "\n",
        "* **EV/EBITDA** : 당기순이익에서 이자, 세금, 감가상각비를 제외하기 전 영업이익을 뜻하며, 재무제표의 영업이익항목에 감가상각비를 더한 금액\n",
        "\n",
        "![per.PNG](data:image/png;base64,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)\n",
        "\n",
        "* **EV/Sales** : EV를 매출액으로 나눈 값 (PSR과 활용도와 비슷)\n",
        "\n",
        "![psr.PNG](data:image/png;base64,iVBORw0KGgoAAAANSUhEUgAAAhIAAABtCAYAAAD01oiCAAAAAXNSR0IArs4c6QAAAARnQU1BAACxjwv8YQUAAAAJcEhZcwAADsMAAA7DAcdvqGQAAC9KSURBVHhe7d0HVBRXGwbgsJ0OCqiAiAUL2At2scWAJYpdxNg11tgiFowFQxRrjL1X7KjYKwr23kWCDQuIiCAoLOzy/rMF2IUBdtcliv/3nPOdo1vZ3Zk779y5c+eHsGcxCHkSTUVFRUVFRUWlVckyxA9sd1BRUVFRUVFRaVJqQeJJXCJeJyZTUVFRUVFRUbFWJJMVVLODWpD4nJYOQgghhJC8yLKCanagIEEIIYQQjVGQIIQQQojOKEgQQgghRGcUJAghhBCiMwoShBBCCNEZBQlCCCGE6IyCBCGEEEJ0RkGCEEIIITqjIEEIIYQQnVGQIIQQQojOKEgQQgghRGcUJAghhBCiMwoShBBCCNEZBQlCCCGE6IyCBCGEEEJ0RkGCEEIIITqjIEEIIYQQnVGQ0Bspoq4dwvadZ/E6PUN5m+7S3t9F8I6dCAv/qLxFc2nv7uAA89zzEZ+UtxSe1NdXsXf7blx9LlbeQggp2vTZlkkRffsoduw8hafJ2r/Wf9eWSfDs8gHs2B2KN3pov3XzZd9VXsRvrjFt9C5ceVZ4bTQFCQ2lJicg4WMK81PnRYz9I2uCJ2yPw0l5P0pTiZdmoLxAiB6Ln+bznuwSzvvCkXmu19IorZ/7OfoyVs0YBa/OnujWZyQCtlzEe5UVSxy9Hk1NhGjy22mkMf+POzgSxXmmGB74QfEAQsg37b9ty9JwYlJD8ATNsC1K1mJoR/e2LA3PL2yB74g+6OzZBf1GzcLuy29UXkOKiJVdIOBVwJ/nkpn/p2LbgCrgm3riuB7ab1bSGAS428Gk7DBc+8wWFDT/rlJehyJg+M+oUdYKhnw+jCzsULtlXywKDmc+ibr3h0ahOFeEwZvyaqPTEbZ0MNp5eMBDo+qAyVsj1H4PChIaicPC9vb5LAAy+a98nyO2wrulG5o1a5ZHuaHz1CPMqyhoEiRSmYVp1YIABASo1+zRbZgFh4c6Xaflum/ewl2ISGH/DG8vzkfjUiIILJzQpos3vDzdUMZMiMruc3Ff+ZkoSBBSlH1pWybB7Q3D0Zy1DVOWW2sEHE9SPl6zjaN+27JEnPRvDys+DzYVm6N7H2/83LQiTAS28Jp/CZ/ljym6QeLj/bX4ycEYRqXqY+j0ZQjcsxeBa+Zi0I8VIeQVR6eZZyH7RJk0CRLXt07F4IEDMbCA6t+9Eax4fLSbeYuChPa+PEiI35zCXJ8JGD9+fO4a0x1VTPio2T8oK01qEiSSbixCS5fKqFSpkkpVhL2lEAY/GEBUzCHHfZVQufoAnEzI/YrSpDAMcraAWbleCI7MzrQfH21CWwdztPIJlYccChKEFGVf2pZJ8fT4P5jI1o4xNbJrHRhyS2BicKLy8ZptHPXZlr0LmYSyQgHqeG/Gq7TMz5iKG2u9UcqoKuZdlIWcwg4SUkRf3IA/pk7F1KwahzZOJuBb1sPgSVNUbvfFoj33mYgmLvi7kjzB7Nb2EJZoi+2PFJEoizQamwcwv5vAhfmM2VGi4CChueR7AagqEqKj/z0KEtr78iCRH/EbZuNsKkK7WdkpT9dDG/F31zFp1Ui+8pmU6Yq9jzU7tvju8CgmaZqgz4rnOd6P2QNZ2A4WZX+Vf3YKEoQUZYXZlknxmNk4C/l1sOJe5s6I7oc2dGvLPmP7IBfwTX7Erlc53k/yFDOal0KD4ceZT1j4QSJi2yi41qmDOllVEw6WPHCENqhSW/X2uugyXdaeFhwkUp+vQgNjIRqNOilvf3P6/GgRahoK0dLnPNNyK+gzSCTd8EcVkQCdA8LVthMUJDSh7JIysh+IS4UQJN7uH4bifFtMOpyZ4rUPEolRl7DGtweczPkoXrEHFq+Zjqb2RhAWr4Whf+3Gw7cpykeykeL+kp8h4FfB/Ms5Ui7jw5mJsDdqg6A4qTJICODc6U/sCQrCluntYcoxoSBBSFFQqG1ZMjb3rQwj2344/ynzedoHiS9qy6RRmN2qFCydJ+B+Vm9EJjEOjKoFR/flSMxQBAk+1xa/zNmBoKBd+L2NPXiFeWijwBBX8Hcl25BXZjbkneY8ZN0uSD/uwk/mItQasJ/5tAr6DBKJl2eiArNd6r3sJQUJbWWk38OEulbgGrXFfmZjyk7XlS8J2wa6QGTdDSfis59XUJBIenwcy+b5YdLofvixThkYcTkws2+AIbP34kmSYiFNe38H63y9UMPWGFy+BZwbdcKw36dh7uItuBGt+tsyexLLPeXp3D9U9eiaQvzxMShp0g7BCZlBgg8DDhdcrqwMYGBAQYKQoqAw2zLpx2Po4WACl57bmFYtkwYbR322ZdJozGljCzOn0biVa/yEGLuHVkO5DmuYyKMMEgYG4MjbMaaYf3MLO0i0+7IgIX67BS0thKjZbw/Y+mcSr8yCk0CgNoZBn0Ei/uR4lOQZYegW9deiIKGBtNhtaF1MAAMmvU46lN1roE63lU/8cit+tDZE7QF71QbIFBQk0uJPYWgjF9Rr3gH9Rvsh8NRDJCr7spLvrkVvj3YIOKL4sTPS43H72Hr4jvCCe9NaqNF6Fh6lqi/IstHRZZn3azfzZlaXmIIYp6Y0hnWNyQhnEj4d2iCk6Cq8tkyK8PW9YMazw8QD75W3yRS8cdRvW5aGoxPqM+9XB8vvqvdcZKRex6gaVmjje4Vp4wr70AYLyRNMa1oCAhtvnMvqsVGlQe+NNBbrejN/p0kt/HU6Rm3bIE26Bz93R/AtmmPz4+xxbvoMErG7B8GEa40J+9SXHQoSBZLi6da+MOMawsiQh1r996ht8LPpsvIlYt/oehCIauOfm+oLvSJI8FGz0yT4+/vLa97K44jW4BznD2cnw4EvRP+1scpbNCB5DL/WDsxC6Aq/4Ejm08h8wp1dY+Fibo1+KxXHxChIkO+GNA4hmxfnOhtAfkbAgs249fYh9vw9X3Hb/HW4qtzzjb2+BwuUj/tnxzXWPcNvU+G1ZZLEsxjgbAGbOr54rHZIQblx5JWH15Q/lW3ZHGw4+UxtI5gXXdqyzw9XoHFxIezrj8XpZ4pfR5r8LzYMbwRzaw/sjJS1bv99kJDE70U7GxEM+NXx9w22wzPK74rvioWhDxAeHo7wx08Rl6NnRfz2NH5rXBp8kS3cug3H1JkzMXVsPzRzKga+mQsmbH+s9t2yBwkpnu+diGaNGqGRFlWvkg04BgI4VG2guK1JR6y68omCRIEk/2JGC1tY1ZqARSNrQ2DaDBsf5TxTV0bblU+K1yd8UEEkQMNhh1S6AhUUQYILc7uKcHFxkVddj9l4wKykn9+G48qlS7iUR51a3R8leQJ0nHac9X55Xb6JqA/qfQ+pL49hZFMH8JgFxcrBCeXtLMEX2MJz2lHESRQLMwUJ8v2QICbUFxWFArQctQnBwcFM7ceqsS1gUdIbIUlJuLakC8w4Anj4XsBH5WqdnnAD4+pbwax8L+wLz2uv/htUWG2Z9AP2/lYfAn55TDv2TnljJuXGkWOM0pUU7ZiLS3X08r8k7/ksnLZMgn8P+cK1pCE4Ags4VnRCKQsBjO3cMP/EK+VGVrcg8TniIPz9AhGZa/xFQaR4tLYnTHkmMDUSoOlvp5h3zEnxXXF/+AE/KMuAVxazQnLHvYzUlzi+yhe9OzRH3dq14NrkJ/wyZj5OhicoH5Etrx6Jtxc3YIqPD3y+pCb749i/YgoS+ZMicudAlBCUwPCtUUiJCoRHKSNUbL8cr3L1DGi38iU+WIc2pY1Q3HkELrzP/fi8D21I8XCpJ/gqC5suZcC1x7QTOeMLQ5qAuycDsWTeXCxcvg3nI9QXTAoS5Hvy4Ryzxyt0gn9YdmOd8nwfps46ANm26fPjJahjZIGR27OXb8mHI+hZrhKmHH6rvKUoKKy2LBXXVvZCCb4IzUYfRmKu7Wt+3fWF25alf4jAka3LMG/ufKwKPI1nan+cbkFCNkbAvoQXQlgPTeRNknhO3mNTvu1CbBhTD0LzJlh7L2evhGY9Etr6HHEE8/z+QnCOQz36REEiH6lRe9DR0QQVPP5BlHxlk+DB5l9gwzdHx5lhObo0NV/5Pj4KhGdFMwhLtMbG2ywbc0Z+YyQkn+IR/eYN3nxJRb/FR7H2C6gk/hjGtvfAqBW35HsUiZeXoPNPHbH4DPvnIOTbJcHtBW0hsuyC44mytUyKtxEPEKMyEE7yIRCtzIzRd3WM8hYxzvm1Ru1eW7N66YqCwmnLUnFz00A4inhwarMAj3UYQPg127JXB2egrXtfbJNvYNNwekEfeHSans9psToGCWkcdg6vB5FZA6y89Qlp747Bu5I5StbxwQ35cpcp/+9KXRrOLhuB/iNX5DiUlFvy3c0Y3ncAVp/P3bOhLxQk8pD24RJ+b2YPkzI9cPCZyo8q/YCDE91gxC+J7n+FIvtKGJqsfOl4etofTe0MYViyBZZfiFPenltBgy1zEseH49CmhZg6ZjC8e3SFp2dn9PDqh5ET/bBmzwW8yWflyCnl+Xls2bAe69drWBu24MKTzJONCot+r2VCCLOWYXWP8jCv2Bur9wRh+1ofNK7UAydUJjnKSDmKbrZmWefNpzxZixZObbGz0Jd3/SmMtiwjPRrBM9vDms9DhVZ+uPUhr1ZKm42jgv7aMgkizm3HBrY2K4/auOU0Sw9NNu2DRDLOLegEK74Vev99h/k2FN5dnIM6xUXMdzcT199lbme1+a4+Y12v8hCV/AWhBfwt74+NgQ0vv8GWYuwdURP8zLNXCiwRev6tvl2iIMHi04sjGN7IDnzz+lh0Pl55a7aM9OdY1bcWhBxjNB2+F+/lh+fyX/lS317D0lGtYC3gwqZqX+x9kH861DxIJODc0n6obMkH19AGVRv+CM/uXujzizd6dG6PZrXLwpTPgam9G2bte6JRKIk7OAaONtawti64rCwMwdHL6Z9SiMWqxzlz0rzHhxBNZIgvYnBlC1R2H4/5Cxdi1qDGqNDmb8Sq9DRkiK/gV+di+HHqFaRLY7G+T210mZPzzKZvl/7bsnS8vLwRg5qWAY9jisb91yEy3w27NhtHfbdlqQj8tRZsWNottjIXMRvJnIc2JM+xqGfdrNk0KzoUB59vjjIVM2fYdIF3wHXW5UH68RHWjnaDOc8ELcceRrzag5gdo1N/oCbzWS3KucN/520mcmgws2UW/QaJPcOqg8uvhz+270VQUFCeFTjfC6V4glzbJQoSuaTj5ro+cLRrhoVn1E+vUSN5g92+Q7DgZOZj8l75MsQPMb25HTi8Ymg+aDUeqXVnsdM0SEQfHQt7vhA1uizCrbfse0kfIoIxrJEt+GZ5Da7S3ZeOkUh5GYKZv7ihjKWQCSQ8mNvVhNfk7SxXv9MgSEhe4cjqhWqj7/OvBdh/I/fgpP83ksSb2LxwAQJDXytv+f+Q8mQZXI0tMSJQ0TOYFnsLZ6+9Vl/fJBGY2rgkGo44jtchk1G9rg/uaNG793Xpvy1LurcE9ZmNn7B4bYxbdz2Psz5UaR4kvm5bltcYiUTcPBqIzZs3y2vV1PYobtEE09ZtUt62FUdvvGX5btNwaV47mHDN0XLEzjx6UaWIuboanas6wHP2JaToECQ4fCtUVpslM3fVrFgCPANhgUGCJ2yHgwVsm/LaLuUZJM78+xAHl0/Png/c1xfTZ/pjybo9uPYsr0tbixF5biMmD+6KVo1dmQ9RH81/6opRs3YgInPIM/P2r8PWqc1B7uv7B2bPW46g0H+VF1T52iT49EnbhTT/DV3qy/M4eO6FxnsymgUJMQ6NrStf8LY8z3/Be39iLEryhOiz4pXyFv34kiAhfnkAPZk9QpFNA4xZFIhjJ4KxfGoXOBrxUcljUY4L8hQcJDLE1zH5xxpZew/5VUVHawgMcifrAknjcXL1rOz1Qq3+wNpTshnfUnFp25/wnTYPpwroAs9IvY8Ns/7Aor332f8OaTQOL52J2avOKm+QPeclTqydif6d26BRvTqoW78p2nYbgnm7but0KmLK0+VwNRKi1eQLylv+P7zeMQBmwoZY/2/2b5QadQyL14SptEPxWNShNKp7/4nxTWtj+gnVORKKAn23ZRKmjT+AKy81PbSjaZD42m1ZIQy2lLxG2ClZT0P+MlI+Me8uo/2hDZ5pTfTzUb1uR+6a4N0QxpyCeyQKJ0hEXIBPQ2vwjG1RTZ5saqN6FUdYirhMCrKB++gdKhdEYUheYsvIJjDjm6NaSy+MZj6cz7ih8HSrBFNBDfydNU+CBNcDfgKPYwQHl9qK1FSrGsqVNAWXadgrtvoDV7KOGRUlGuwxa0GzIJGOi36twOeVxx/5NnAS3P6nE4y5xfDbLv02hDoHCWkcNvWrCp5hLSy4oPpcCe6u9YIV85pd591R+exf4/tlIfkXvk1sVNYL1XLFsOWyQCDB/aWdIDLgKye/yVvs0TEoybfA0E1vlLeoS74/H9UNRWg384b8/ykvgjGgbkkILSrAvfdwTJoyCWOG9ECjCsVgVXNygQOv2Px/BolUZnmqBbPyI3EjM7BKY5hlsgZaqVynQPa4Tb9UgqGlFVz7bFd2/X/v9Lmuabpx/NptWeGetaEZ7YOEPg9tFGqQsKo1Ra1xSk8Ix6ZxLWDGNUb7mVeYjy4jRfiG3jDn2WLIuofK2zKl4emZPQh9lplgFUGCz6+JJbdUTkeRJuDS2gFwFPJQo88OJGjfHn5lX2dDlxq1G53KmsrnoR/itwFnb0YiLikVUmk6PsW/xt0L+7FgbDuUNuTCrr4v7iR/+d+mStcgIX69CS0shcye3naVQV4KGel3MK5OcZhXHou7WbPWfVtBIud6kZM4eit+tBLAoso4lc+QUxK29ndmfrvOOMo6XbFYPkufwLQlAmWD5KSvscSzHIxsO2HPY/W+uwzxG5zYdVyngaj/f0FCiidHp6F2cT6E1i5o7eEBDw93tKhbBiKeHaYcUV0i03B4XD2IrNphj+pAxe/a1wgSX7stoyDxnwYJOcljTG1sA9OsNJ+A5V0cYeL4K64WePwwjyAhI32HpZ5lwS/WHaf0sLH4b329DV3y85OY0a8lHOWX3M1xnrUBB6alqqP7uLW4H6//nh5dg8Tbfb/CgmeO4dvYzlxJw0nZCsVvgHURmd2yRStIyLrE1/SqCA6zhzX7LPupsZKEYHjaGqOqV2CuCclkJIlH0KOMCZy7bZIHa0nCLrgXM0SD4ceYb0N//l8PbWgq/skVhN15o91yUqR9nSAh8/XaMs2CROHSPkjk+o7yKg3GSHDYnsdafD0FCeaND4yuDZ6oLQ7ILzSluBiJoW1fhBWY1PIJEszryo+TCVtjV0xR60NMw9EpLWDv6I2TelgQk27MQ0OHMhiy5oXmDZgkCS8eXkXIyaM4dOgwjp8+j7tP3ul1o5NT/MnJcLZ3gk+QNjP8KS5NzudXxcKr7KNiojb0goBrj6nHMjex+g0SmdcW6bUk52XTC6BxkABimJBlw+XCddgRppnKLWpHf1jwS2LCPrYuWin+3dgbZjwH+B5TDAhNf7cZzU2FqDVgH+vr5ZaGF1f3ImDyMPTy/BntOnTFkAmLEBKp3geUX5BI//AAgQHj4d25Izp26QufgD2IYNlrkX56jqOrZ2God2e0b/czuvQcgIkBwXSqbpGkz7YsHedmt4W9gyf2vtaiR+c/b8vECBrbCKWd+hdSb4MmtPmupIi6cRwH5bOxalAHD+N2zsuqZ5Hizb0QzV8r+BCuPVVvt3UMEqkIHOgMvnlnHJcPomS+gBlu4HEs0cX/YgGDS/LrkYjBog5lYGg3ABeKzMhooj3l8VB+Pax+yL5JjN01EMac4hiXFVD0GyTkl0bXZcCWFkFC+ukc+lUwlQfsc1mDjZWk77C8i+wwRT+E5rxPRvIEM1vYoljV3+XTosvIDvmMr2MFfrFmWHEl96l8OUUF9oM5T4TSVd3Qxbsf+vZojXLmPAitW2Pz/ex1L68g8fHRVnSuZAFhsYpo3dmbCRPNUcaMD+uqQ3HmTXajlBoVjH41bSAq7ox2Pftj4ABv/NyyFhwqDcZlWo8J+e7pFCTS3h1C97KmKOe+FG+V51ynvT+DYXVsYMAxRb3u/gh7ntf5F3kFiXSE7x2JsiJjeEw7r0XylODOqn6orrweRZ5V1RV+h/M624T8txQzCvL51bCY9eI1wMtNXhBwbVWOV+sSJCS4sbwPatTsmev4dvyxMSjBM8KQTQVvkNVoESRke3YnfBoyAbsExu5RP4QjH0NR3BCuvx5m7V1IuuGPKiIjdA64p9JjIsWrE1PhYsYFz6wyBs49htf5TJ/75vgKLD8eqfb60Wd8UE7AQ72hh5W3sAeJjJQbGO9aAtbVBuGYyt5H3LUA1LUQwnXoIeWZDanYO7wGBOYtsEnlioMyaUkfwf7rqkuJ3IBOtaqyr7dZVRVtxgUrn/F9ou+BFFVaBYmM9AQ8PLsOAxraQmDRCMuvqh/ZTYu/irnedWHCMWAaugroOWkLwnPNeKYMElwbtPD6FSNGjMCIYYPR7cdqsDRzRJcp+/BGq+5QKV6GbcTsWbMwK7/ym4PDKnth5OuK2TMYZlxLjN7JtiFnFsppTZmgURcrH2RunHQJEuk4P7M58zquWJNjIxfLvL8p1xrjc1wOt0DKIMERmMPW3h72KlXasTXW5JjPPvnOXLiIeKjSbbPKdQikeLSyK4x4ZTGTdWrxT9g7ohazjrVDUK4uTimiL61El2rW4BhwYOXUDn6BN1nHWLDJEF/CkCoWKNnoT+Ut7EEiascAWAoc4Xss5++TgLW9nGBk2x8XPst+hzgsbK84rHlexy7htNiLWOHvx77eZpUfFu+5o3zG90nf30NycjIV1X9SCcmf8g8SHJ4hzC0tYWlpAWMBFwYGApSt3w9brr5T2VNSJUbEyb/R09UePAMDmDu2xfJzqpOhKIIEj2MGl0at0bplEzjbmYIrcMCglbc1PPZbeNgHl1BpU5pIfbEWTcyFqDNwX665DzLSwzGZWfZMy4/A9aw9bn0GCSmerOkGAc8Jf6lcrEkjyiBhVLotZixegiVLVGrpNtx6m2MQGPP4ac1Kgm/xMw7EKEOBNAp/tbGDmdNo3GLpUZC8D0LHUsao8cuuPANCRmoUDi4YjJolRcw6KULV9n/iWh6nTYsTXuH2+WPYvvZvzJzYD3VKCFC85mTlvWxBIhU7BruAb9oEs7buxK5du1RqB2Z1rwKewA2BL2WfJx0X/2oDEccYrj3m5Bp/8V9jWx6/lfqvmZqasv4dVFT6rt/Gjss/SJiU7YwFGzZhy5at2LH7IC49iNHssIP0A85vGIPa1gLwLZth3Z3MPbXchzYyUiKx8pca4AsqYMrB6DwCyn+D7Uui0q40Io3Byu4VwTdrjNV3VDfmUkTuGoySPBHcp6nOwaDPICHBtTltmOWtMTY9zbnHXwCtDm3ISHF/mScMOabot0oxsDMlcjnqm4rQ/PdQ5H53KR6s7ApjfoU8z/ZQlRZ/C8uGu8GSx0GZ5nPwr8rf9OH+Tgx3rwozPgcGXBGK2VVA7YYNUaEYr4AgoehlMODwmO9IAAFLCU2aYL3yjJqM1KfYMsEDpQw58pn26nccg82hL1k+W+FjWx6/lfqvXbhwAaGhoVRUhV4Pwh/nHyQ0bzDZxZybCichD7X671UeL2UfIyFJDMPQasVgVn4QQlnPqc+LFG+u7MTihQuxML9atBQnwwvz/AUtSN4gbN8O7A/T5tRDKV7fOoIdO0/jRT7HxfVDgmeXDzDBMVTLw0za+RyxGe6ljWBeth0CdoXhYfhtHFg2HNWLCWDnOjnHlfH0e2gjOfoBQk9fw1ttP5/WQYL5y2O24UcrIRxaLcIbiWz5d4eAXw2LrqsfBpHJSH+EyQ1tYF1nmlooyF8iDo1vCD63FCYeUJziJbtKa+8KZrB08sTioCt4/VHZWyF5LO/tyT9IJGBJx9IwKq3dYMnE52FYNrkXqtmIwOEVR4dpp3PNEcIm7f11bP57Eft6m1WLsObgQ+Uzvk/0PeiLbu1X2rs7OLBjJ85H6DI/rHZSX1/F3u27cfX5N7JN+kI6nrWhuQzxNQyvagnbZnOZRlT2OuxBQubVwdGw4wnQfNxp5UAuTUhwc2kvVHB0hGN+VbYqpgVreTxcX5i97wB3WVf2KNxkQkBGyjF0tzNGxa6bNRqMppCGoxNcwRO0wE6VEfOaScPzC1vgO6IPOnt2Qb9Rs7D7sup58bpdm18f4u9tx+CWTjDmGsj32jhCGzTxmourMTm76fUbJHSmQ5AAPsjnlOAaNsGGR7cxqQGzXtWeigiW5yecn4ZyQhN4/ROhRciUzYsxXT4vRtf5EfL/x+weBDOuFX7bpT7IU7Y+jmDWx/yDhPL0bmFTbNZhEqa0dxfxu5sd83mbYlNkwQ3l58er4V6pHPt6m1Vl0WzEPuUzvk/0PehKP+2X7JRwR2Yd8loapdW6J/M5+jJWzRgFr86e6NZnJAK2XMR7lRAjjl6PpiZCNPnttLyn7kuvUfSt0VOQSEb4/SeshzwkiYfR1d4Ezr0ClcfC8w4Ssmm2F3csB55RPSy9Ufip8MtJcHvDcDRv1gzNWMqt5XAckQ2W0ypIpOPy8oEsr9kU1R1MYcCxhHPDpjnuY96r1TiEqFz+OFsiTvq3hxWfB5uKzdG9jzd+bloRJgJbeM2/pAxsXy9IKEiR9PYpHtx/jOiPeW248g4Sn6Mf4EJYGMJy1TmsHFIHPH5VTNkRwnK/Sp2/ihcfNJi7RKcgoZhTogRPhHajRqCaSIT2frdZGqtEbBtYFUKrzjgSm/teaVIkHuY4fzvTm/3DYM3Pnjb46dru8nk4fI+rHx6JvzwLlUXcAoIE8/ceGsX8vUK4+15gGbckRUpKfgFBikfLPJnlqRLmXNByDAohKj5HbIV3S7dc7Z2iWmLKdtlGX7v2K/neGnRnec3GtRwhMuCgRMUGue5r1qwV/PazT8n99uJ8NC4lgsDCCW26eMPL0w1lzISo7D4X95XvT0FCkwZT+hr+bcqjUY+p2HbqPuLFssen413EGfj3qgmRyBl/nskc/Z1PkGAk3VuI2qZ8OLacj+eF2K2uH+kIm+EGPtcOHoPGYPz48coah16N7cEVNMbGJ9oGCQkeBS/A71mvpawxvVGjGB8/GAhQzX2o+n1MTfBZyTpl7LuQSSgrFKCO92aVa6Ok4sZab5Qyqop5F2Ubmq8dJDSRV5CQ4uFST/BzHI/WtgyYje60Exqc+6AMEmYVemHNvgO5Jms5GvaY9cJZGSmh6O9kBmMzU/CFDbCW5cqF4pjt+MnaEPWGBLP2yIlfrkFTuxroN20tQh/Gyhsk2ZlU908tRacqFiju8huuKuekSL45By4iPsq3moFLr2Wv9hn/hvyDDi5lYWvFLzBIyAa8+v3oAK7QEX38g/Hkg6yHKB2xj8/g79880HPWVWZJZUhjsdFnEAK2h+FZbLK8UU94fgrjmtnBpMxAnC9gyl1C8pN8ew6cmeW4YvMBGKfS3v3WtxmKcwXoOv+xfJnTpv1KeXYYsydOUGs/x48fgy71SoDzgwHMy7fBSLX7ZOWDrZdy92hLk8IwyNkCZuV6ITgye53++GgT2jqYo5VPqHwHm4KERnteSTgxrycqW8mmNTUAh9mTMTLkg2PAR4nK7TE3OFLR6MjlHyRkvRsHx7qCx7HG4PVPlLd9q5RBQm0qZ5k0nPFtAp5OQSI3adIjrBrSAMZ8c1iacWFs1wZLQ14xq09BPmP7IBfwTX7ErpyzmkmeYkbzUmgw/DizoBflIMF8lJRExMXGIvZLKi4en9hPelCnDBJsYURW1nX+wBPWAKyY/pbLrB/2bgF4lesxEtxc1AEivjPmX2bvdZB+vIwZnrVhKeAwgdKACSRGzONlAxwtUPvnKTj1THUZTMCpeV1gK5INtBTAkGmMBRbV8Nu6YExm/v6CgoRMWmwYfDtVhRHHIOs1DAy4KF6+FQKOKC+3LY3Dur7O4Bswn5+5T2QkApdZ7+1qemHjFbbpzwnRnCJICNBpzkO19i7x2mxUEsoO5WkfJHJLxvWtI1HFTAgLSzNw+Xbo+ecpxGmwI/vu8ChY8UzQZ4ViIHU2xey9FmV/xbXPGf+/QUJWsju1IklE5I2zOLBnF/YeOI4rD6KZn/R7VphBQozX905itd9QNHI0g6F1XUzaeg8vr61Ft+olmIW9GOp3Ho9VQZcQnZzHAi+NwuxWpWDpPAH3c4VBMQ6MqgVH9+VIzFCsiHyuLX6ZswNBQbvwext78IpIkPgeZKTfxtjaxWHb2L/Anri0hBe4euYg9uzag4MnLiAihj14yCRH38XJA0HYf/SCZoducpHg/dMrOLp/L/buP4KLd1+xLLNpePv4Eo7s24PdQYdw/u7rb2S9F+PlraPYuHwJ/lmxDruPXsGrj5p/B6lRxzG5S304ONSG/ykNequI3hVmkPgUex+HNvrjl+YVmEBuhVbDNiEi+gYW/FIPZlw+bKt3gu8/e3DrZV6/vRT3l/wMAb8Ka/iXz55r1AZBcVJlkBDAudOf2BMUhC3T28OUY0JBgsjoO0ik4tw/g9C6WUNULWMJnoEAJSu3wNDpm3H3XXaPQoaY+X02TEc3t8ryU/sEprZwrt0QHUdvy5ppVE4ajTltbJn3ZZuvQIzdQ6uhXIc1TB5XBglmL5fD5YIrK+bf3G8qSOj3WibfmrhTv8Oeb4EBa7W4tgrJm+QF1g1yRdlaPTB9wTIsnu4FJ1Mh3MafVT5AMy829IJI1ALb87xOASlM+g4SCddXoWcbN7hWd4Qp03YaFq8Ej77TsPfaW5XXT8Pzi5vxu1dLlLUUgsMzgUPlWmjSZiSOqF1MS4rHy2VjgSrAP1T2vurij49BSZN2CE7IDBJ8GHCU7SvXAAYGFCSInP57JFIi92Ha+GlYtHoHzt2LYV4pf8lv7uBg4Er4T52ApUeV3c1ZZGd61Gf+jjpYnmPGxYzU6xhVwwptfGVzNXxp1yD5MhI8PDAfEyevwG22624Qrb1nGvFShk1U5glJwpZf3TBln+pMnVLERV5EUOBW7A8Jx4e4ewi5rDpiX4xDY+qw9+hJ4nEnZB+2bNqOkPtxautdRmoMLh/ZiY0bNmP34TBEvsu735HkT+89EpKn2DLzd8ycvwp7T93Fe/l4vrxlpETj6tHtWDp3GiYFHML7HB1amRf/azfzJrMWqxLj1JTGsK4xGeHMskOHNkg+tAsSAusm+M3vT/zpNxg1zPk5goQE76MiEB4e/kUV8TRGLZx8frgCjYsLYV9/LE4/UwwDlCb/iw3DG8Hc2gM75afnUZAg35fn63tCqDbFeg7MOrl3ijucqneE74J/MK1XXVgYGaLJmDPZ4V0SCd+mJVC19w6Vwa+yKcqX4udaNdBlzFzMn+gBG9N6WK4c7yWOOYIBtSqh7Yi5WLXyL3SrYY26g4OZzQrRhTZBgs+xgsewWfD390NvV5tch2bTPrzEY5Y2U6t6/BTvPqmED8lj+LV2AN/CFX7Bkcrf+RPu7BoLF3Nr9FsZLv+7KUiQfGgXJDhCKzjJLrzj7AhzHkc9SMjPfLFlHcCnTeWeREiCfw/5wrWkITgCCzhWdEIpCwGM7dww/0TmgE0KEuT7kvJ8K9xLGcLGpTe2XI1VLueZ0nAxoC2K2XVBsLKrOvHqLDgJi2HUjuxT/CQfdqOtlQl6LI7Men5K5Ea0ti2NXzcpbkuNWo1GprbwOSSbekuKyDXdYOE4FFeV6+D76zuw4wINOtWVVkHCQIiS5Z3h4uKM0sUEOQ7NFt7ZXakvj2FkUwf5oWgrByeUt7MEX2ALz2lHEac81ExBguRDn4c2CuqRuI81/asxr+mGVTcestyvqJw9EpnSP0TgyNZlmDd3PlYFnsaz7CtIMShIkO/P2+vr0K06s2cqKoO+Cy9AtmTLSD4Eo7OdGTym38jqjn4na9gN1Sfg+nB2MhyEqnNhKOb5KO02Fy/TPiHq1n5M7lAZpV2n4KZyPYk744MyzA5D2/GB+JdOff1i+jy0UVCPxI3tw2DLE6DrX1dY75dXzh6JTNIE3D0ZiCXz5mLh8m04H5GgvEOBggTJh/7HSORNjINj6oAn9MD+eP03UK8OzkBb977YJh9LkYbTC/rAo9N0+alLhBRV0uRHWOpVndlDdMEC5cj694dGwUrgjAVXMg9YpOH4xAawrDwWd1Izl3fFpe5FxbrhpDIQZKScRC8HE5RyaQ73nzzQ2XsE/lp7Cq/U1pFPuL5tHOqVMoS5Y3usu/J9bCi+Fr2PkciHPDjyhei/NlZ5i/7Ipqwf294Do1bckofXxMtL0PmnjljMevXfooeCxBfJDBKuWHH3g8plVRNwdFIjnYNERmoI+pY3V47uVSnZ+fyysyly3M4zbI5taqOJ2UgQcW47Nqxfj/Ua1sYtp1nmOyDk25aalIDPKiPfFPNkGGPwRtlAS+VIe2Fr7I5RPCjt/WF0d1TMvps9FiIJa3tVgG3TOXit2j1taoZftxYcDlJjzmJ4fRs4ui/L6t4m2ssMEj/73cRHlctWvz0/HU7yKeF1CRJi7B1RE/wc7SiXy5G3rwa5bheh598FXxcp5fl5bNnA3pay1oYtuPDk+xg9Q0HiiyiCBI/lWJr8eJquPRLSd7h2bD+CgoIKqN3w61aZCSzNNAgSqQj8tRZsrK1hrUGZi5gViA5tkKJG+hJ//ugMn4PZG/v3oVNR3qwBVt1T9BpGbfaGoWwg5v1UZl18jJWju6FuGRP5oY7EpyewLzQGGekP4dPABnUGByMp9hL2HI1E2scD6Ghjgg6z7yo2KpJ3ODm/D/rNuS7fy4zaNQZDl2buOSt6EB3b/IN3FCR0pggSHNb29Ycf+DoGCSle32Z+Z9Y2Vb0C53uhFE+AHosLDhJxB8fA0Ya9Pc1ZVhaG4NDpnyRTwvMbOBsSghC2OncTMUxw0M+hDTaK2RI1CxLaoDESpGjKSAnBwErFYFG2FUZMmYnpPgPRrEYDjF1/m1mqFcRvguDJBAer8q5o3rIHVoTexYL2ZWDhWAtuHiNxKPKzPMyv7lkRxqWqomkrb2y8KuvNSMaJWW1gaWIP1xYtUNfZBR1Gb0akfEK4NBzzaQBjq9roN94XPiM8UaNya/wTSgMtv4Q06QWunGVpW+V1DvdeyvqQCm+MV+KlGfKL4WkSJLRBYySI9rQ9tCG+goktq6NSpUoFloOV7GwMChKEZEtFdORtXDgXgtArDxGXNe4hm/h9BC5fvIMY5cC59A9PcPXKYySo9B5IP73B7St3ESvbGciSjtjIawi7cAMv3udc59IR9+I+LoedRehl9vclhUHbIJGG4zPboQpLe5qzKjpaQ2CgWY+ENihIEO1pPUbiDPqUNUGxqj3hHxCAgAJq3oJAPNDrREYUJAghRYX2YyT2DKsOLt8Fg2bPZW1T1WsB9t9QPwvjS1GQINrTMUiU7bCG9UqShY+CBCGkqNAtSPCE7XDwK52iS0GCaE/HIME+wIi9ynisgGxKHP2gIEEIKSp0CxIclnY0rzIQ/oR97/XXFlKQIDoQI/LyERw+cw+yACw7vXNITUfUH7SbWeRZSONw8/QhBAcHa1zHLj/Pmlzny4kRNLYRSjv1R8gnChKEkG9b8ourOHTwNCLey7ZZBbVfUry5F4KDLO1onnXoEqJzXUFZd/EnJ8PZ3gk+QYnKW4o2ChKEEEII0RkFCUIIIYTojIIEIYQQQnRGQYIQQgghOqMgQQghhBCdUZAghBBCiM4oSBBCCCFEZxQkCCGEEKIzChKEEEII0RkFCUIIIYTojIIEIYQQQnRGQYIQQgghOqMgQQghhBCdUZAghBBCiM4oSBBCCCFEZxQkCCGEEKIzChKEEEII0RkFCUIIIYTojIIEIYQQQnRGQYIQQgghOqMgQQghhBCdUZAghBBCiM4oSBBCCCFEZxQkCCGEEKIzChKEEEII0RkFCUIIIYTojIIEIYQQQnRGQYIQQgghOqMgQQghhBCdUZAghBBCiM4oSBBCCCFEZxQkCCGEEKIzChKEEEII0RkFCUIIIYTojIIEIYQQQnRGQYIQQgghOqMgQQghhBCd5RskZHXh+VsqKioqKioqKtbKmRtyBQkqKioqKioqKk3rh9tv3rPeQUVFRUVFRUWVX91hMsQPGRkZiP8sRmxyChUVFRUVFRWVRiXLDrIM8YNy7AQhhBBCiNYoSBBCCCFER8D/AO6FprDg4QBzAAAAAElFTkSuQmCC)"
      ],
      "metadata": {
        "id": "kTqtq7ZeEoxQ"
      }
    },
    {
      "cell_type": "code",
      "source": [
        "df = fs.fn_single(otp=OTP, symbol='NKE', window='T') # 나이키(NKE) 재무제표 데이터 불러오기"
      ],
      "metadata": {
        "id": "_jqGnXvxEJvn"
      },
      "execution_count": 38,
      "outputs": []
    },
    {
      "cell_type": "markdown",
      "source": [
        "* EV를 계산하고 EV/EBITDA 추이를 차트로 그려보기\n",
        "  * **시가총액 = 주가 X 주식수**\n",
        "  * **EV = 시가총액 + 차입금 - 현금성자산**"
      ],
      "metadata": {
        "id": "om9EVFGjIMZT"
      }
    },
    {
      "cell_type": "code",
      "source": [
        "df['Market Cap'] = df['Price'] * df['Shares'] # 시가총액 계산\n",
        "df['EV'] = df['Market Cap'] + df['Long Term Debt'] + df['Current Debt'] - df['Cash & Equivalents'] # EV 계산"
      ],
      "metadata": {
        "id": "KZITTZODIKtP"
      },
      "execution_count": 39,
      "outputs": []
    },
    {
      "cell_type": "code",
      "source": [
        "df['EV/EBITDA'] = df['EV'] / df['EBITDA'] # 'EV/EBITDA 계산"
      ],
      "metadata": {
        "id": "OmpmRdHkIoaP"
      },
      "execution_count": 40,
      "outputs": []
    },
    {
      "cell_type": "code",
      "source": [
        "# 'EV/EBITDAdhk PER 비교\n",
        "df['PER'] = df['Price'] / df['EPS'] # PER 계산\n",
        "fs.draw_chart(df, left='PER', right='EV/EBITDA') # PER 대비 EV/EBITDA 비교"
      ],
      "metadata": {
        "colab": {
          "base_uri": "https://localhost:8080/",
          "height": 319
        },
        "id": "JFjJzHxeI4ta",
        "outputId": "dd5969a8-e571-404e-9a79-f983fa016869"
      },
      "execution_count": 41,
      "outputs": [
        {
          "output_type": "display_data",
          "data": {
            "text/plain": [
              "<Figure size 720x360 with 2 Axes>"
            ],
            "image/png": "[encoded data removed]"
          },
          "metadata": {
            "needs_background": "light"
          }
        }
      ]
    },
    {
      "cell_type": "markdown",
      "source": [
        "-> 2018년 한 해를 제외하고 EV/EBITDA와 PER이 동행하는 모습을 볼 수 있음 (나이키가 2018년에 세금을 몰아서 낸 기록이 있음 = EV/EBITDA의 분모에 이용되는 EBITDA가 세금의 영향을 받음)"
      ],
      "metadata": {
        "id": "l8V1d__MJu1I"
      }
    },
    {
      "cell_type": "markdown",
      "source": [
        "* EV를 계산하고 EV/Sales 추이를 차트로 그려보기\n",
        "  * **EV/Sales = EV/매출액**"
      ],
      "metadata": {
        "id": "rrsAkq0cKEAM"
      }
    },
    {
      "cell_type": "code",
      "source": [
        "df['EV/Sales'] = df['EV'] / df['Revenue'] # EV/Sales 계산\n",
        "df['PSR'] = df['Price'] / (df['Revenue'] / df['Shares']) # PSR 계산\n",
        "fs.draw_chart(df, left='PSR', right='EV/Sales') # PSR 대비 EV/Sales 비교"
      ],
      "metadata": {
        "colab": {
          "base_uri": "https://localhost:8080/",
          "height": 319
        },
        "id": "IoTqlcSzJIGy",
        "outputId": "dd380d57-6027-48d5-d10a-c1dfb413f93a"
      },
      "execution_count": 42,
      "outputs": [
        {
          "output_type": "display_data",
          "data": {
            "text/plain": [
              "<Figure size 720x360 with 2 Axes>"
            ],
            "image/png": "[encoded data removed]"
          },
          "metadata": {
            "needs_background": "light"
          }
        }
      ]
    },
    {
      "cell_type": "markdown",
      "source": [
        "-> 두 그래프가 딱 붙어있음 (비슷한 콘셉트로 만들어진 지표라 결괏값 역시 비슷하게 나옴)\n",
        "\n",
        "### [분기별로 EV/EBITDA 값이 낮은 순서대로 상위 30개 종목에 투자하는 전략을 테스트]"
      ],
      "metadata": {
        "id": "sRou2-8ULQFt"
      }
    },
    {
      "cell_type": "code",
      "source": [
        "terms = fs.set_terms(trade_start='2011Q1', trade_end='2021Q1') # 2011년 1분기 ~ 2021년 1분기\n",
        "data = {}\n",
        "for t in terms:\n",
        "  data[t] = fs.fn_consolidated(otp=OTP, term=t) # 분기별 재무제표 데이터 불러오기"
      ],
      "metadata": {
        "colab": {
          "base_uri": "https://localhost:8080/"
        },
        "id": "h5vJ8egdKaYr",
        "outputId": "b4f4d62c-1501-427f-bc01-dfe046b7124a"
      },
      "execution_count": 11,
      "outputs": [
        {
          "output_type": "stream",
          "name": "stdout",
          "text": [
            "2010Q4...OK\n",
            "2011Q1...OK\n",
            "2011Q2...OK\n",
            "2011Q3...OK\n",
            "2011Q4...OK\n",
            "2012Q1...OK\n",
            "2012Q2...OK\n",
            "2012Q3...OK\n",
            "2012Q4...OK\n",
            "2013Q1...OK\n",
            "2013Q2...OK\n",
            "2013Q3...OK\n",
            "2013Q4...OK\n",
            "2014Q1...OK\n",
            "2014Q2...OK\n",
            "2014Q3...OK\n",
            "2014Q4...OK\n",
            "2015Q1...OK\n",
            "2015Q2...OK\n",
            "2015Q3...OK\n",
            "2015Q4...OK\n",
            "2016Q1...OK\n",
            "2016Q2...OK\n",
            "2016Q3...OK\n",
            "2016Q4...OK\n",
            "2017Q1...OK\n",
            "2017Q2...OK\n",
            "2017Q3...OK\n",
            "2017Q4...OK\n",
            "2018Q1...OK\n",
            "2018Q2...OK\n",
            "2018Q3...OK\n",
            "2018Q4...OK\n",
            "2019Q1...OK\n",
            "2019Q2...OK\n",
            "2019Q3...OK\n",
            "2019Q4...OK\n",
            "2020Q1...OK\n",
            "2020Q2...OK\n",
            "2020Q3...OK\n",
            "2020Q4...OK\n"
          ]
        }
      ]
    },
    {
      "cell_type": "code",
      "source": [
        "for t in terms:\n",
        "  data[t]['Market Cap'] = data[t]['Price_M3'] * data[t]['Shares'] # 분기별 시가총액 계산\n",
        "  data[t]['EV'] = data[t]['Market Cap'] + data[t]['Long Term Debt'] + data[t]['Current Debt'] - data[t]['Cash & Equivalents'] # 분기별 EV 계산"
      ],
      "metadata": {
        "id": "DliYs_xmL85q"
      },
      "execution_count": 12,
      "outputs": []
    },
    {
      "cell_type": "code",
      "source": [
        "for t in terms:\n",
        "  data[t]['EV/EBITDA'] = data[t]['EV'] / data[t]['EBITDA'] # 분기별 EV/EBITDA 계산\n",
        "  data[t].loc[(data[t]['EV'] <= 0) | (data[t]['EBITDA'] <= 0), 'EV/EBITDA'] = float('nan') # EV가 음수 or EBITDA가 음수일 경우, 'nan'으로 처리"
      ],
      "metadata": {
        "id": "uTwj7gMKPsNe"
      },
      "execution_count": 13,
      "outputs": []
    },
    {
      "cell_type": "code",
      "source": [
        "s = {}\n",
        "signal = {}\n",
        "\n",
        "for t in terms:\n",
        "  s[t] = fs.fn_filter(data[t], by='EV/EBITDA', floor=0, n=30, asc=True) # EV/EBITDA 기준 하위 30개 종목 선정\n",
        "  signal[t] = list(s[t].index) # 선정된 종목 저장"
      ],
      "metadata": {
        "id": "N0uYWIhxRJ-G"
      },
      "execution_count": 14,
      "outputs": []
    },
    {
      "cell_type": "code",
      "source": [
        "df = fs.backtest(signal=signal, data=data, m=3, cost=.001) # 백테스팅"
      ],
      "metadata": {
        "colab": {
          "base_uri": "https://localhost:8080/"
        },
        "id": "I3KUdLu2SnDq",
        "outputId": "09f843c0-23bd-4273-f94a-a55384e36b67"
      },
      "execution_count": 15,
      "outputs": [
        {
          "output_type": "stream",
          "name": "stdout",
          "text": [
            "CAGR: 9.03%\n",
            "Accumulated return: 137.61%\n",
            "Investment period: 10.0yrs\n",
            "Sharpe ratio: 0.45\n",
            "MDD: -51.88%\n"
          ]
        }
      ]
    },
    {
      "cell_type": "code",
      "source": [
        "fs.draw_return(df) # 기간별 수익률 그래프"
      ],
      "metadata": {
        "colab": {
          "base_uri": "https://localhost:8080/",
          "height": 359
        },
        "id": "9HYWFw6_S0uG",
        "outputId": "7722fa03-897d-4a48-8f77-b4121e74f576"
      },
      "execution_count": 16,
      "outputs": [
        {
          "output_type": "display_data",
          "data": {
            "text/plain": [
              "<Figure size 720x360 with 2 Axes>"
            ],
            "image/png": "[encoded data removed]"
          },
          "metadata": {
            "needs_background": "light"
          }
        }
      ]
    },
    {
      "cell_type": "markdown",
      "source": [
        "### [분기별로 EV/Sales 값이 낮은 순서대로 상위 30개 종목에 투자하는 전략을 테스트]"
      ],
      "metadata": {
        "id": "8FkmSc_9h3Fi"
      }
    },
    {
      "cell_type": "code",
      "source": [
        "# EV/Sales 백테스팅 코드 모아보기\n",
        "terms = fs.set_terms(trade_start='2011Q1', trade_end='2021Q1') # 2011년 1분기 ~ 2021년 1분기\n",
        "data = {}\n",
        "for t in terms:\n",
        "  data[t] = fs.fn_consolidated(otp=OTP, term=t) # 분기별 재무제표 데이터 불러오기\n",
        "\n",
        "s = {}\n",
        "signal = {}\n",
        "for t in terms:\n",
        "  data[t]['Market Cap'] = data[t]['Price_M3'] * data[t]['Shares'] # 분기별 시가총액 계산\n",
        "  data[t]['EV'] = data[t]['Market Cap'] + data[t]['Long Term Debt'] + data[t]['Current Debt'] - data[t]['Cash & Equivalents'] # 분기별 EV 계산\n",
        "\n",
        "  data[t]['EV/Sales'] = data[t]['EV'] / data[t]['Revenue'] # 분기별 EV/Sales   계산\n",
        "  data[t].loc[(data[t]['EV'] <= 0) | (data[t]['Revenue'] <= 0), 'EV/Sales'] = float('nan') # EV가 음수 or Revenue가 음수일 경우, 'nan'으로 처리\n",
        "\n",
        "  s[t] = fs.fn_filter(data[t], by='EV/Sales', floor=0, n=30, asc=True) # EV/Sales 기준 하위 30개 종목 선정\n",
        "  signal[t] = list(s[t].index) # 선정된 종목 저장\n",
        "\n",
        "df = fs.backtest(signal=signal, data=data, m=3, cost=.001) # 백테스팅"
      ],
      "metadata": {
        "colab": {
          "base_uri": "https://localhost:8080/"
        },
        "id": "dhK8fjEyhk6D",
        "outputId": "1a0c06a7-3191-42cd-cf9d-caf5dbd9b7f0"
      },
      "execution_count": 17,
      "outputs": [
        {
          "output_type": "stream",
          "name": "stdout",
          "text": [
            "2010Q4...OK\n",
            "2011Q1...OK\n",
            "2011Q2...OK\n",
            "2011Q3...OK\n",
            "2011Q4...OK\n",
            "2012Q1...OK\n",
            "2012Q2...OK\n",
            "2012Q3...OK\n",
            "2012Q4...OK\n",
            "2013Q1...OK\n",
            "2013Q2...OK\n",
            "2013Q3...OK\n",
            "2013Q4...OK\n",
            "2014Q1...OK\n",
            "2014Q2...OK\n",
            "2014Q3...OK\n",
            "2014Q4...OK\n",
            "2015Q1...OK\n",
            "2015Q2...OK\n",
            "2015Q3...OK\n",
            "2015Q4...OK\n",
            "2016Q1...OK\n",
            "2016Q2...OK\n",
            "2016Q3...OK\n",
            "2016Q4...OK\n",
            "2017Q1...OK\n",
            "2017Q2...OK\n",
            "2017Q3...OK\n",
            "2017Q4...OK\n",
            "2018Q1...OK\n",
            "2018Q2...OK\n",
            "2018Q3...OK\n",
            "2018Q4...OK\n",
            "2019Q1...OK\n",
            "2019Q2...OK\n",
            "2019Q3...OK\n",
            "2019Q4...OK\n",
            "2020Q1...OK\n",
            "2020Q2...OK\n",
            "2020Q3...OK\n",
            "2020Q4...OK\n",
            "CAGR: 25.28%\n",
            "Accumulated return: 853.84%\n",
            "Investment period: 10.0yrs\n",
            "Sharpe ratio: 2.66\n",
            "MDD: -26.06%\n"
          ]
        }
      ]
    },
    {
      "cell_type": "markdown",
      "source": [
        "-> EV/EBITDA보다 EV/Sales가 성과가 더 좋고 수익률 변동이 상당히 개선됨, MDD가 훨씬 낮아짐"
      ],
      "metadata": {
        "id": "1eLfl1MQlP4w"
      }
    },
    {
      "cell_type": "markdown",
      "source": [
        "# 6. 안전마진이 있는 그레이엄의 NCAV(청산가치) 투자법\n",
        ": 그레이엄은 보통 사람보다 보수적이여서 유동자산(현금, 비유동자산(본) = 토지, 건물)에서 부채를 뺀 금액을 청산가치로 여김\n",
        "\n",
        "![청산.png](data:image/png;base64,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)\n",
        "\n",
        "### [그레이엄표 안전 마진]\n",
        "-> 청산가치가 시가총액 1.5이상인 기업에 투자하는 전략을 제시\n",
        "\n",
        "안전마진 = 청산가치 - (시가총액 x 1.5) = (유동자산 - 부채) - (시가총액 x 1.5)"
      ],
      "metadata": {
        "id": "DK6MvUlBlrbA"
      }
    },
    {
      "cell_type": "code",
      "source": [
        "df = fs.fn_single(otp=OTP, symbol='FB', window='T') # 페이스북(FB) 재무제표 데이터 불러오기"
      ],
      "metadata": {
        "id": "lE0v1xk6iw4W"
      },
      "execution_count": 26,
      "outputs": []
    },
    {
      "cell_type": "markdown",
      "source": [
        "* NCAV = 유동자산 - 총부채\n",
        "* 시가총액 = 주가 x 주식수\n",
        "* 안전마진 = NCAV - 시가총액 x 1.5"
      ],
      "metadata": {
        "id": "EbzKAZcGpuss"
      }
    },
    {
      "cell_type": "code",
      "source": [
        "df['NCAV'] = df['Current Assets'] - df['Total Liabilities'] # NCAV 계산\n",
        "df['Market Cap'] = df['Price'] * df['Shares'] # 시가총액 계산\n",
        "df['Safety Margin'] = df['NCAV'] - df['Market Cap'] * 1.5 # 안전마진 계산"
      ],
      "metadata": {
        "id": "fPFr0Yiyosky"
      },
      "execution_count": 27,
      "outputs": []
    },
    {
      "cell_type": "code",
      "source": [
        "fs.draw_chart(df, left='Price', right='Safety Margin') # 주가와 안전대비 비교 그래프"
      ],
      "metadata": {
        "colab": {
          "base_uri": "https://localhost:8080/",
          "height": 336
        },
        "id": "L5Jxm0iIqJg8",
        "outputId": "c0ced134-7680-4906-d8fb-bf800cdedb41"
      },
      "execution_count": 28,
      "outputs": [
        {
          "output_type": "display_data",
          "data": {
            "text/plain": [
              "<Figure size 720x360 with 2 Axes>"
            ],
            "image/png": "[encoded data removed]"
          },
          "metadata": {
            "needs_background": "light"
          }
        }
      ]
    },
    {
      "cell_type": "markdown",
      "source": [
        "-> 주가가 올라갈수록 안전마진이 떨어짐 (투자자에게 인기 있는 회사이니 당연한 일)"
      ],
      "metadata": {
        "id": "waAxgTiarBNC"
      }
    },
    {
      "cell_type": "code",
      "source": [
        "# PBR과 비교\n",
        "df['PBR'] = df['Price'] / (df['Shareholders Equity'] / df['Shares']) # PBR 계산\n",
        "fs.draw_chart(df, left='PBR', right='Safety Margin') # PBR과 안전마진 비교 그래프"
      ],
      "metadata": {
        "colab": {
          "base_uri": "https://localhost:8080/",
          "height": 336
        },
        "id": "Llwx3fTMqW_b",
        "outputId": "8a8263ec-7131-4852-988f-c854b7c66b81"
      },
      "execution_count": 29,
      "outputs": [
        {
          "output_type": "display_data",
          "data": {
            "text/plain": [
              "<Figure size 720x360 with 2 Axes>"
            ],
            "image/png": "[encoded data removed]"
          },
          "metadata": {
            "needs_background": "light"
          }
        }
      ]
    },
    {
      "cell_type": "markdown",
      "source": [
        "-> 2022년 안전마진과 PBR이 많이 벌어짐 -> 청산가치가 줄어들었다는 의미이고, 이것은 부채가 늘거나 비유동자산이 늘어난 것이 원인일수도\n",
        "\n",
        "### [백테스팅]\n",
        ": 10년간 테스트하고, 리밸런싱은 3개월 후 (안전마진이 있는 종목은 흔하지 않기 때문에 거래량 요건을 조금 완화해서 테스트하기)"
      ],
      "metadata": {
        "id": "0lcMlbO_yBhf"
      }
    },
    {
      "cell_type": "code",
      "source": [
        "terms = fs.set_terms(trade_start='2011Q1', trade_end='2021Q1') # 2011년 1분기 ~ 2021년 1분기\n",
        "data = {}\n",
        "for t in terms:\n",
        "  data[t] = fs.fn_consolidated(otp=OTP, term=t, vol=10000) # 분기별 재무제표 데이터 불러오기 (거래량 기준을 1만두로 지정 -> vol)"
      ],
      "metadata": {
        "colab": {
          "base_uri": "https://localhost:8080/"
        },
        "id": "MZTHBohNrb0m",
        "outputId": "c12966e9-518b-47f2-fb14-eb4f4c6533e1"
      },
      "execution_count": 30,
      "outputs": [
        {
          "output_type": "stream",
          "name": "stdout",
          "text": [
            "2010Q4...OK\n",
            "2011Q1...OK\n",
            "2011Q2...OK\n",
            "2011Q3...OK\n",
            "2011Q4...OK\n",
            "2012Q1...OK\n",
            "2012Q2...OK\n",
            "2012Q3...OK\n",
            "2012Q4...OK\n",
            "2013Q1...OK\n",
            "2013Q2...OK\n",
            "2013Q3...OK\n",
            "2013Q4...OK\n",
            "2014Q1...OK\n",
            "2014Q2...OK\n",
            "2014Q3...OK\n",
            "2014Q4...OK\n",
            "2015Q1...OK\n",
            "2015Q2...OK\n",
            "2015Q3...OK\n",
            "2015Q4...OK\n",
            "2016Q1...OK\n",
            "2016Q2...OK\n",
            "2016Q3...OK\n",
            "2016Q4...OK\n",
            "2017Q1...OK\n",
            "2017Q2...OK\n",
            "2017Q3...OK\n",
            "2017Q4...OK\n",
            "2018Q1...OK\n",
            "2018Q2...OK\n",
            "2018Q3...OK\n",
            "2018Q4...OK\n",
            "2019Q1...OK\n",
            "2019Q2...OK\n",
            "2019Q3...OK\n",
            "2019Q4...OK\n",
            "2020Q1...OK\n",
            "2020Q2...OK\n",
            "2020Q3...OK\n",
            "2020Q4...OK\n"
          ]
        }
      ]
    },
    {
      "cell_type": "code",
      "source": [
        "for t in terms:\n",
        "  data[t]['NCAV'] = data[t]['Current Assets'] - data[t]['Total Liabilities'] # 분기별 NCAV 계산\n",
        "  data[t]['Market Cap'] = data[t]['Price_M3'] * data[t]['Shares'] # 분기별 시가총액 계산\n",
        "  data[t]['Safety Margin'] = data[t]['NCAV'] - data[t]['Market Cap'] * 1.5 # 분기별 안전마진 계산"
      ],
      "metadata": {
        "id": "sJt65dAgy9Lw"
      },
      "execution_count": 31,
      "outputs": []
    },
    {
      "cell_type": "code",
      "source": [
        "s = {}\n",
        "signal = {}\n",
        "for t in terms:\n",
        "  s[t] = fs.fn_filter(data[t], by='Safety Margin', floor=0, n=30, asc=False) # 안전마진 기준 '상위' 30개 종목 선정\n",
        "  signal[t] = list(s[t].index) # 선정된 종목 저장"
      ],
      "metadata": {
        "id": "lg_nkGjm1DoI"
      },
      "execution_count": 32,
      "outputs": []
    },
    {
      "cell_type": "code",
      "source": [
        "df = fs.backtest(signal=signal, data=data, m=3, cost=.001) # 백테스팅"
      ],
      "metadata": {
        "colab": {
          "base_uri": "https://localhost:8080/"
        },
        "id": "y_xBzPSH13HV",
        "outputId": "7b4a04e6-b4ef-447c-cfdb-c30c64a39419"
      },
      "execution_count": 33,
      "outputs": [
        {
          "output_type": "stream",
          "name": "stdout",
          "text": [
            "CAGR: 27.32%\n",
            "Accumulated return: 1021.61%\n",
            "Investment period: 10.0yrs\n",
            "Sharpe ratio: 3.33\n",
            "MDD: -11.85%\n"
          ]
        }
      ]
    },
    {
      "cell_type": "markdown",
      "source": [
        "-> 수익률이 훌륭하며 샤프비유도 준수하고, MDD 역시 수익률에 비해 높지 않은 훌륭한 전략"
      ],
      "metadata": {
        "id": "Z1K0XM5j4F79"
      }
    },
    {
      "cell_type": "code",
      "source": [
        "fs.draw_return(df) # 기간별 수익률 그래프"
      ],
      "metadata": {
        "colab": {
          "base_uri": "https://localhost:8080/",
          "height": 359
        },
        "id": "47IbVsqJ18tn",
        "outputId": "59fe7deb-bc3a-41c6-e398-73da816019fe"
      },
      "execution_count": 34,
      "outputs": [
        {
          "output_type": "display_data",
          "data": {
            "text/plain": [
              "<Figure size 720x360 with 2 Axes>"
            ],
            "image/png": "[encoded data removed]"
          },
          "metadata": {
            "needs_background": "light"
          }
        }
      ]
    },
    {
      "cell_type": "markdown",
      "source": [
        "-> 증시 하락기의 방어 능력이 좋고 상승기에는 잘 올라타는 전략처럼 보임\n",
        "\n",
        "### [각 분기에 몇 개의 종목이 선정되었는지 조회]\n",
        ": 분기별로 선정된 종목은 signal 딕셔너리에 저장되어 있음"
      ],
      "metadata": {
        "id": "7oXPQ0mt4hrT"
      }
    },
    {
      "cell_type": "code",
      "source": [
        "for k, v in signal.items():\n",
        "  print(k, len(v)) # 증시가 불황일 때는 30개가 다 찬 적도 있지만 30개를 미처 못 채운 분기가 많이 보임"
      ],
      "metadata": {
        "colab": {
          "base_uri": "https://localhost:8080/"
        },
        "id": "YoWMrI_s4Pd3",
        "outputId": "dd305d40-2f52-4f8a-f5e3-f92394a134b5"
      },
      "execution_count": 35,
      "outputs": [
        {
          "output_type": "stream",
          "name": "stdout",
          "text": [
            "2010Q4 0\n",
            "2011Q1 3\n",
            "2011Q2 15\n",
            "2011Q3 11\n",
            "2011Q4 8\n",
            "2012Q1 15\n",
            "2012Q2 11\n",
            "2012Q3 14\n",
            "2012Q4 10\n",
            "2013Q1 10\n",
            "2013Q2 9\n",
            "2013Q3 6\n",
            "2013Q4 7\n",
            "2014Q1 8\n",
            "2014Q2 8\n",
            "2014Q3 7\n",
            "2014Q4 7\n",
            "2015Q1 8\n",
            "2015Q2 10\n",
            "2015Q3 12\n",
            "2015Q4 9\n",
            "2016Q1 15\n",
            "2016Q2 10\n",
            "2016Q3 16\n",
            "2016Q4 7\n",
            "2017Q1 14\n",
            "2017Q2 14\n",
            "2017Q3 9\n",
            "2017Q4 9\n",
            "2018Q1 10\n",
            "2018Q2 12\n",
            "2018Q3 18\n",
            "2018Q4 19\n",
            "2019Q1 18\n",
            "2019Q2 24\n",
            "2019Q3 24\n",
            "2019Q4 30\n",
            "2020Q1 30\n",
            "2020Q2 30\n",
            "2020Q3 22\n",
            "2020Q4 16\n"
          ]
        }
      ]
    },
    {
      "cell_type": "markdown",
      "source": [
        "# 7. 성장주 투자가 하고 싶다면, PEG(주가수익성장비율)\n",
        "* 앞서 살펴본 PER, PBR, PSR, PCR은 *실적 대비 저평가된 가치주*를 찾는 기술\n",
        "* 성장주 : 가치주와 반대되는 개념, 실적과 주가가 하루가 다르게 성장(ex. 페이스북, 애플 등)\n",
        "* 성장주 투자는 *미래 성장 기대감에 베팅*하는 것 -> 과거 실적을 가지고 밸류에이션 하는 가치투자 방법이 적합하지 않음 -> 이럴 때 사용하는 지표가 **PEG(주가수익성장비율)**\n",
        "* 주식의 저평가/고평가 여부를 판단할 때 현재의 이익만이 아니라 이익의 성장률을 함께 고려해서 만든 식\n",
        "\n",
        "![PEG.png](data:image/png;base64,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)\n",
        "\n",
        "    * PER이 작을수록 또는 EPS 성장률이 클수록 PEG가 낮아짐\n",
        "    * PEG가 1보다 작으면 저평가 종목\n",
        "    * 피터 린치 : PEG가 0.5 미만이면 매수하고, 1.5 이상이면 매도\n",
        "\n"
      ],
      "metadata": {
        "id": "_YCLugvS5VKw"
      }
    },
    {
      "cell_type": "code",
      "source": [
        "df = fs.fn_single(otp=OTP, symbol='AAPL', window='T') # 애플(AAPL) 재무제표 데이터 불러오기"
      ],
      "metadata": {
        "id": "SZ5BCK995U0l"
      },
      "execution_count": 36,
      "outputs": []
    },
    {
      "cell_type": "markdown",
      "source": [
        "* 성장률 구하는 공식 = (New - Old) / Old x 100 이지만 주당순이익인 EPS는 마이너스가 나오는 경우도 종종 있음 -> 그래서 성장률 구할 때는 분모 Old에 절댓값(abs)을 씌워줌\n",
        "* 전년 EPS는 데이터프레임.shift() 함수를 이용해 df['EPS'].shift(4)로 구함 (4분기전이라는 의미)"
      ],
      "metadata": {
        "id": "W7I_YtGr86e2"
      }
    },
    {
      "cell_type": "code",
      "source": [
        "df['PER'] = df['Price'] / df['EPS'] # PER 계산\n",
        "df['EPS Growth'] = (df['EPS'] - df['EPS'].shift(4)) / abs(df['EPS'].shift(4)) * 100 # EPS 성장률 계산\n",
        "df['PEG'] = (df['Price'] / df['EPS']) / df['EPS Growth'] # PEG 계산 "
      ],
      "metadata": {
        "id": "-5AAncvp49OA"
      },
      "execution_count": 37,
      "outputs": []
    },
    {
      "cell_type": "code",
      "source": [
        "df[['EPS', 'EPS Growth', 'PER', 'PEG']].tail(10) # EPS, EPS 성장률, PER, PEG columns의 마지막 10개 데이터"
      ],
      "metadata": {
        "colab": {
          "base_uri": "https://localhost:8080/",
          "height": 363
        },
        "id": "PylbEz2b7lp0",
        "outputId": "f82ec819-0b0e-4729-cf21-c3a905f38f6f"
      },
      "execution_count": 38,
      "outputs": [
        {
          "output_type": "execute_result",
          "data": {
            "text/plain": [
              "            EPS  EPS Growth   PER    PEG\n",
              "2019-09-30 2.98       -0.25 18.76 -74.84\n",
              "2019-12-31 3.19        3.99 23.01   5.76\n",
              "2020-03-31 3.22        7.34 19.76   2.69\n",
              "2020-06-30 3.32       12.26 27.47   2.24\n",
              "2020-09-30 3.30       10.47 35.12   3.35\n",
              "2020-12-31 3.72       16.54 35.69   2.16\n",
              "2021-03-31 4.47       39.01 27.31   0.70\n",
              "2021-06-30 5.12       54.22 26.75   0.49\n",
              "2021-09-30 5.62       70.43 25.18   0.36\n",
              "2021-12-31 6.04       62.47 29.40   0.47"
            ],
            "text/html": [
              "\n",
              "  <div id=\"df-a29c91d8-c8db-4622-ade1-8598fcd89f35\">\n",
              "    <div class=\"colab-df-container\">\n",
              "      <div>\n",
              "<style scoped>\n",
              "    .dataframe tbody tr th:only-of-type {\n",
              "        vertical-align: middle;\n",
              "    }\n",
              "\n",
              "    .dataframe tbody tr th {\n",
              "        vertical-align: top;\n",
              "    }\n",
              "\n",
              "    .dataframe thead th {\n",
              "        text-align: right;\n",
              "    }\n",
              "</style>\n",
              "<table border=\"1\" class=\"dataframe\">\n",
              "  <thead>\n",
              "    <tr style=\"text-align: right;\">\n",
              "      <th></th>\n",
              "      <th>EPS</th>\n",
              "      <th>EPS Growth</th>\n",
              "      <th>PER</th>\n",
              "      <th>PEG</th>\n",
              "    </tr>\n",
              "  </thead>\n",
              "  <tbody>\n",
              "    <tr>\n",
              "      <th>2019-09-30</th>\n",
              "      <td>2.98</td>\n",
              "      <td>-0.25</td>\n",
              "      <td>18.76</td>\n",
              "      <td>-74.84</td>\n",
              "    </tr>\n",
              "    <tr>\n",
              "      <th>2019-12-31</th>\n",
              "      <td>3.19</td>\n",
              "      <td>3.99</td>\n",
              "      <td>23.01</td>\n",
              "      <td>5.76</td>\n",
              "    </tr>\n",
              "    <tr>\n",
              "      <th>2020-03-31</th>\n",
              "      <td>3.22</td>\n",
              "      <td>7.34</td>\n",
              "      <td>19.76</td>\n",
              "      <td>2.69</td>\n",
              "    </tr>\n",
              "    <tr>\n",
              "      <th>2020-06-30</th>\n",
              "      <td>3.32</td>\n",
              "      <td>12.26</td>\n",
              "      <td>27.47</td>\n",
              "      <td>2.24</td>\n",
              "    </tr>\n",
              "    <tr>\n",
              "      <th>2020-09-30</th>\n",
              "      <td>3.30</td>\n",
              "      <td>10.47</td>\n",
              "      <td>35.12</td>\n",
              "      <td>3.35</td>\n",
              "    </tr>\n",
              "    <tr>\n",
              "      <th>2020-12-31</th>\n",
              "      <td>3.72</td>\n",
              "      <td>16.54</td>\n",
              "      <td>35.69</td>\n",
              "      <td>2.16</td>\n",
              "    </tr>\n",
              "    <tr>\n",
              "      <th>2021-03-31</th>\n",
              "      <td>4.47</td>\n",
              "      <td>39.01</td>\n",
              "      <td>27.31</td>\n",
              "      <td>0.70</td>\n",
              "    </tr>\n",
              "    <tr>\n",
              "      <th>2021-06-30</th>\n",
              "      <td>5.12</td>\n",
              "      <td>54.22</td>\n",
              "      <td>26.75</td>\n",
              "      <td>0.49</td>\n",
              "    </tr>\n",
              "    <tr>\n",
              "      <th>2021-09-30</th>\n",
              "      <td>5.62</td>\n",
              "      <td>70.43</td>\n",
              "      <td>25.18</td>\n",
              "      <td>0.36</td>\n",
              "    </tr>\n",
              "    <tr>\n",
              "      <th>2021-12-31</th>\n",
              "      <td>6.04</td>\n",
              "      <td>62.47</td>\n",
              "      <td>29.40</td>\n",
              "      <td>0.47</td>\n",
              "    </tr>\n",
              "  </tbody>\n",
              "</table>\n",
              "</div>\n",
              "      <button class=\"colab-df-convert\" onclick=\"convertToInteractive('df-a29c91d8-c8db-4622-ade1-8598fcd89f35')\"\n",
              "              title=\"Convert this dataframe to an interactive table.\"\n",
              "              style=\"display:none;\">\n",
              "        \n",
              "  <svg xmlns=\"http://www.w3.org/2000/svg\" height=\"24px\"viewBox=\"0 0 24 24\"\n",
              "       width=\"24px\">\n",
              "    <path d=\"M0 0h24v24H0V0z\" fill=\"none\"/>\n",
              "    <path d=\"M18.56 5.44l.94 2.06.94-2.06 2.06-.94-2.06-.94-.94-2.06-.94 2.06-2.06.94zm-11 1L8.5 8.5l.94-2.06 2.06-.94-2.06-.94L8.5 2.5l-.94 2.06-2.06.94zm10 10l.94 2.06.94-2.06 2.06-.94-2.06-.94-.94-2.06-.94 2.06-2.06.94z\"/><path d=\"M17.41 7.96l-1.37-1.37c-.4-.4-.92-.59-1.43-.59-.52 0-1.04.2-1.43.59L10.3 9.45l-7.72 7.72c-.78.78-.78 2.05 0 2.83L4 21.41c.39.39.9.59 1.41.59.51 0 1.02-.2 1.41-.59l7.78-7.78 2.81-2.81c.8-.78.8-2.07 0-2.86zM5.41 20L4 18.59l7.72-7.72 1.47 1.35L5.41 20z\"/>\n",
              "  </svg>\n",
              "      </button>\n",
              "      \n",
              "  <style>\n",
              "    .colab-df-container {\n",
              "      display:flex;\n",
              "      flex-wrap:wrap;\n",
              "      gap: 12px;\n",
              "    }\n",
              "\n",
              "    .colab-df-convert {\n",
              "      background-color: #E8F0FE;\n",
              "      border: none;\n",
              "      border-radius: 50%;\n",
              "      cursor: pointer;\n",
              "      display: none;\n",
              "      fill: #1967D2;\n",
              "      height: 32px;\n",
              "      padding: 0 0 0 0;\n",
              "      width: 32px;\n",
              "    }\n",
              "\n",
              "    .colab-df-convert:hover {\n",
              "      background-color: #E2EBFA;\n",
              "      box-shadow: 0px 1px 2px rgba(60, 64, 67, 0.3), 0px 1px 3px 1px rgba(60, 64, 67, 0.15);\n",
              "      fill: #174EA6;\n",
              "    }\n",
              "\n",
              "    [theme=dark] .colab-df-convert {\n",
              "      background-color: #3B4455;\n",
              "      fill: #D2E3FC;\n",
              "    }\n",
              "\n",
              "    [theme=dark] .colab-df-convert:hover {\n",
              "      background-color: #434B5C;\n",
              "      box-shadow: 0px 1px 3px 1px rgba(0, 0, 0, 0.15);\n",
              "      filter: drop-shadow(0px 1px 2px rgba(0, 0, 0, 0.3));\n",
              "      fill: #FFFFFF;\n",
              "    }\n",
              "  </style>\n",
              "\n",
              "      <script>\n",
              "        const buttonEl =\n",
              "          document.querySelector('#df-a29c91d8-c8db-4622-ade1-8598fcd89f35 button.colab-df-convert');\n",
              "        buttonEl.style.display =\n",
              "          google.colab.kernel.accessAllowed ? 'block' : 'none';\n",
              "\n",
              "        async function convertToInteractive(key) {\n",
              "          const element = document.querySelector('#df-a29c91d8-c8db-4622-ade1-8598fcd89f35');\n",
              "          const dataTable =\n",
              "            await google.colab.kernel.invokeFunction('convertToInteractive',\n",
              "                                                     [key], {});\n",
              "          if (!dataTable) return;\n",
              "\n",
              "          const docLinkHtml = 'Like what you see? Visit the ' +\n",
              "            '<a target=\"_blank\" href=https://colab.research.google.com/notebooks/data_table.ipynb>data table notebook</a>'\n",
              "            + ' to learn more about interactive tables.';\n",
              "          element.innerHTML = '';\n",
              "          dataTable['output_type'] = 'display_data';\n",
              "          await google.colab.output.renderOutput(dataTable, element);\n",
              "          const docLink = document.createElement('div');\n",
              "          docLink.innerHTML = docLinkHtml;\n",
              "          element.appendChild(docLink);\n",
              "        }\n",
              "      </script>\n",
              "    </div>\n",
              "  </div>\n",
              "  "
            ]
          },
          "metadata": {},
          "execution_count": 38
        }
      ]
    },
    {
      "cell_type": "markdown",
      "source": [
        "-> 최근 10분기 중 단 한 번을 제외하고 꾸준히 성장하고 있음을 알 수 있음"
      ],
      "metadata": {
        "id": "eSNuABZT9lBd"
      }
    },
    {
      "cell_type": "code",
      "source": [
        "# 비교를 위해 AMZN의 PEG를 산출\n",
        "df = fs.fn_single(otp=OTP, symbol='AMZN', window='T') # 아마존(AMZN) 재무제표 데이터 불러오기\n",
        "df['PER'] = df['Price'] / df['EPS'] # PER 계산\n",
        "df['EPS Growth'] = (df['EPS'] - df['EPS'].shift(4)) / abs(df['EPS'].shift(4)) * 100 # EPS 성장률 계산\n",
        "df['PEG'] = (df['Price'] / df['EPS']) / df['EPS Growth'] # PEG 계산 \n",
        "df[['EPS', 'EPS Growth', 'PER', 'PEG']].tail(10) # EPS, EPS 성장률, PER, PEG columns의 마지막 10개 데이터"
      ],
      "metadata": {
        "colab": {
          "base_uri": "https://localhost:8080/",
          "height": 363
        },
        "id": "kL0GqYTN9ebH",
        "outputId": "a12fcd52-29f4-4a1d-ee14-2173dd5ccc09"
      },
      "execution_count": 39,
      "outputs": [
        {
          "output_type": "execute_result",
          "data": {
            "text/plain": [
              "             EPS  EPS Growth    PER   PEG\n",
              "2019-09-30 23.05       25.75  75.31  2.92\n",
              "2019-12-31 23.45       13.50  78.80  5.84\n",
              "2020-03-31 21.30      -13.20  91.54 -6.93\n",
              "2020-06-30 26.48        7.42 104.19 14.03\n",
              "2020-09-30 34.80       50.98  90.48  1.77\n",
              "2020-12-31 42.30       80.38  77.00  0.96\n",
              "2021-03-31 53.01      148.87  58.37  0.39\n",
              "2021-06-30 57.64      117.67  59.68  0.51\n",
              "2021-09-30 51.14       46.95  64.24  1.37\n",
              "2021-12-31 64.82       53.24  51.44  0.97"
            ],
            "text/html": [
              "\n",
              "  <div id=\"df-3449feb0-f49e-4673-bb51-f42470af8730\">\n",
              "    <div class=\"colab-df-container\">\n",
              "      <div>\n",
              "<style scoped>\n",
              "    .dataframe tbody tr th:only-of-type {\n",
              "        vertical-align: middle;\n",
              "    }\n",
              "\n",
              "    .dataframe tbody tr th {\n",
              "        vertical-align: top;\n",
              "    }\n",
              "\n",
              "    .dataframe thead th {\n",
              "        text-align: right;\n",
              "    }\n",
              "</style>\n",
              "<table border=\"1\" class=\"dataframe\">\n",
              "  <thead>\n",
              "    <tr style=\"text-align: right;\">\n",
              "      <th></th>\n",
              "      <th>EPS</th>\n",
              "      <th>EPS Growth</th>\n",
              "      <th>PER</th>\n",
              "      <th>PEG</th>\n",
              "    </tr>\n",
              "  </thead>\n",
              "  <tbody>\n",
              "    <tr>\n",
              "      <th>2019-09-30</th>\n",
              "      <td>23.05</td>\n",
              "      <td>25.75</td>\n",
              "      <td>75.31</td>\n",
              "      <td>2.92</td>\n",
              "    </tr>\n",
              "    <tr>\n",
              "      <th>2019-12-31</th>\n",
              "      <td>23.45</td>\n",
              "      <td>13.50</td>\n",
              "      <td>78.80</td>\n",
              "      <td>5.84</td>\n",
              "    </tr>\n",
              "    <tr>\n",
              "      <th>2020-03-31</th>\n",
              "      <td>21.30</td>\n",
              "      <td>-13.20</td>\n",
              "      <td>91.54</td>\n",
              "      <td>-6.93</td>\n",
              "    </tr>\n",
              "    <tr>\n",
              "      <th>2020-06-30</th>\n",
              "      <td>26.48</td>\n",
              "      <td>7.42</td>\n",
              "      <td>104.19</td>\n",
              "      <td>14.03</td>\n",
              "    </tr>\n",
              "    <tr>\n",
              "      <th>2020-09-30</th>\n",
              "      <td>34.80</td>\n",
              "      <td>50.98</td>\n",
              "      <td>90.48</td>\n",
              "      <td>1.77</td>\n",
              "    </tr>\n",
              "    <tr>\n",
              "      <th>2020-12-31</th>\n",
              "      <td>42.30</td>\n",
              "      <td>80.38</td>\n",
              "      <td>77.00</td>\n",
              "      <td>0.96</td>\n",
              "    </tr>\n",
              "    <tr>\n",
              "      <th>2021-03-31</th>\n",
              "      <td>53.01</td>\n",
              "      <td>148.87</td>\n",
              "      <td>58.37</td>\n",
              "      <td>0.39</td>\n",
              "    </tr>\n",
              "    <tr>\n",
              "      <th>2021-06-30</th>\n",
              "      <td>57.64</td>\n",
              "      <td>117.67</td>\n",
              "      <td>59.68</td>\n",
              "      <td>0.51</td>\n",
              "    </tr>\n",
              "    <tr>\n",
              "      <th>2021-09-30</th>\n",
              "      <td>51.14</td>\n",
              "      <td>46.95</td>\n",
              "      <td>64.24</td>\n",
              "      <td>1.37</td>\n",
              "    </tr>\n",
              "    <tr>\n",
              "      <th>2021-12-31</th>\n",
              "      <td>64.82</td>\n",
              "      <td>53.24</td>\n",
              "      <td>51.44</td>\n",
              "      <td>0.97</td>\n",
              "    </tr>\n",
              "  </tbody>\n",
              "</table>\n",
              "</div>\n",
              "      <button class=\"colab-df-convert\" onclick=\"convertToInteractive('df-3449feb0-f49e-4673-bb51-f42470af8730')\"\n",
              "              title=\"Convert this dataframe to an interactive table.\"\n",
              "              style=\"display:none;\">\n",
              "        \n",
              "  <svg xmlns=\"http://www.w3.org/2000/svg\" height=\"24px\"viewBox=\"0 0 24 24\"\n",
              "       width=\"24px\">\n",
              "    <path d=\"M0 0h24v24H0V0z\" fill=\"none\"/>\n",
              "    <path d=\"M18.56 5.44l.94 2.06.94-2.06 2.06-.94-2.06-.94-.94-2.06-.94 2.06-2.06.94zm-11 1L8.5 8.5l.94-2.06 2.06-.94-2.06-.94L8.5 2.5l-.94 2.06-2.06.94zm10 10l.94 2.06.94-2.06 2.06-.94-2.06-.94-.94-2.06-.94 2.06-2.06.94z\"/><path d=\"M17.41 7.96l-1.37-1.37c-.4-.4-.92-.59-1.43-.59-.52 0-1.04.2-1.43.59L10.3 9.45l-7.72 7.72c-.78.78-.78 2.05 0 2.83L4 21.41c.39.39.9.59 1.41.59.51 0 1.02-.2 1.41-.59l7.78-7.78 2.81-2.81c.8-.78.8-2.07 0-2.86zM5.41 20L4 18.59l7.72-7.72 1.47 1.35L5.41 20z\"/>\n",
              "  </svg>\n",
              "      </button>\n",
              "      \n",
              "  <style>\n",
              "    .colab-df-container {\n",
              "      display:flex;\n",
              "      flex-wrap:wrap;\n",
              "      gap: 12px;\n",
              "    }\n",
              "\n",
              "    .colab-df-convert {\n",
              "      background-color: #E8F0FE;\n",
              "      border: none;\n",
              "      border-radius: 50%;\n",
              "      cursor: pointer;\n",
              "      display: none;\n",
              "      fill: #1967D2;\n",
              "      height: 32px;\n",
              "      padding: 0 0 0 0;\n",
              "      width: 32px;\n",
              "    }\n",
              "\n",
              "    .colab-df-convert:hover {\n",
              "      background-color: #E2EBFA;\n",
              "      box-shadow: 0px 1px 2px rgba(60, 64, 67, 0.3), 0px 1px 3px 1px rgba(60, 64, 67, 0.15);\n",
              "      fill: #174EA6;\n",
              "    }\n",
              "\n",
              "    [theme=dark] .colab-df-convert {\n",
              "      background-color: #3B4455;\n",
              "      fill: #D2E3FC;\n",
              "    }\n",
              "\n",
              "    [theme=dark] .colab-df-convert:hover {\n",
              "      background-color: #434B5C;\n",
              "      box-shadow: 0px 1px 3px 1px rgba(0, 0, 0, 0.15);\n",
              "      filter: drop-shadow(0px 1px 2px rgba(0, 0, 0, 0.3));\n",
              "      fill: #FFFFFF;\n",
              "    }\n",
              "  </style>\n",
              "\n",
              "      <script>\n",
              "        const buttonEl =\n",
              "          document.querySelector('#df-3449feb0-f49e-4673-bb51-f42470af8730 button.colab-df-convert');\n",
              "        buttonEl.style.display =\n",
              "          google.colab.kernel.accessAllowed ? 'block' : 'none';\n",
              "\n",
              "        async function convertToInteractive(key) {\n",
              "          const element = document.querySelector('#df-3449feb0-f49e-4673-bb51-f42470af8730');\n",
              "          const dataTable =\n",
              "            await google.colab.kernel.invokeFunction('convertToInteractive',\n",
              "                                                     [key], {});\n",
              "          if (!dataTable) return;\n",
              "\n",
              "          const docLinkHtml = 'Like what you see? Visit the ' +\n",
              "            '<a target=\"_blank\" href=https://colab.research.google.com/notebooks/data_table.ipynb>data table notebook</a>'\n",
              "            + ' to learn more about interactive tables.';\n",
              "          element.innerHTML = '';\n",
              "          dataTable['output_type'] = 'display_data';\n",
              "          await google.colab.output.renderOutput(dataTable, element);\n",
              "          const docLink = document.createElement('div');\n",
              "          docLink.innerHTML = docLinkHtml;\n",
              "          element.appendChild(docLink);\n",
              "        }\n",
              "      </script>\n",
              "    </div>\n",
              "  </div>\n",
              "  "
            ]
          },
          "metadata": {},
          "execution_count": 39
        }
      ]
    },
    {
      "cell_type": "markdown",
      "source": [
        "-> AMZN의 PEG를 보면 한 번을 제외하고는 꾸준히 성장하고 있음을 알 수 있음\n",
        "\n",
        "### [백테스팅]\n",
        ": 분기별로 PEG 값이 낮은 순서대로 상위 30개 종목에 투자하는 전략을 테스트"
      ],
      "metadata": {
        "id": "tR42X0x5_dWy"
      }
    },
    {
      "cell_type": "code",
      "source": [
        "# PEG\n",
        "terms = fs.set_terms(trade_start='2011Q1', trade_end='2021Q1') # 2011년 1분기 ~ 2021년 1분기\n",
        "data = {}\n",
        "for t in terms:\n",
        "  data[t] = fs.fn_consolidated(otp=OTP, term=t) # 분기별 재무제표 데이터 불러오기\n",
        "\n",
        "s = {}\n",
        "signal = {}\n",
        "for t in terms:\n",
        "  t_4 = fs.quarters_before(terms, t, 4) # 4분기 이전 = 1년전 (비교 대상인 과거 분기를 설정)\n",
        "  data[t]['PER'] = data[t]['Price_M3'] / data[t]['EPS'] # 분기별 PER 계산\n",
        "  data[t]['EPS Growth'] = (data[t]['EPS'] - data[t_4]['EPS']) / abs(data[t_4]['EPS']) * 100 # 분기별 EPS 성장률 계산\n",
        "  data[t]['PEG'] = data[t]['PER'] / data[t]['EPS Growth'] # 분기별 PEG 계산 \n",
        "  data[t].loc[(data[t]['PER'] <= 0) | (data[t]['PEG'] <= 0), 'PEG'] = float('nan') # PER이 음수 or EPS 성장률이 음수인 경우 nan 처리\n",
        "\n",
        "  s[t] = fs.fn_filter(data[t], by='PEG', floor=.1, cap=1, n=30, asc=True) # PEG 기준 하위 30개 종목 선정\n",
        "  signal[t] = list(s[t].index) # 선정된 종목 저장\n",
        "\n",
        "df = fs.backtest(signal=signal, data=data, m=3, cost=.001) # 백테스팅"
      ],
      "metadata": {
        "colab": {
          "base_uri": "https://localhost:8080/"
        },
        "id": "8S22akg2-wTO",
        "outputId": "37b6c30b-44b1-411b-81c8-eab91f1380e0"
      },
      "execution_count": 40,
      "outputs": [
        {
          "output_type": "stream",
          "name": "stdout",
          "text": [
            "2010Q4...OK\n",
            "2011Q1...OK\n",
            "2011Q2...OK\n",
            "2011Q3...OK\n",
            "2011Q4...OK\n",
            "2012Q1...OK\n",
            "2012Q2...OK\n",
            "2012Q3...OK\n",
            "2012Q4...OK\n",
            "2013Q1...OK\n",
            "2013Q2...OK\n",
            "2013Q3...OK\n",
            "2013Q4...OK\n",
            "2014Q1...OK\n",
            "2014Q2...OK\n",
            "2014Q3...OK\n",
            "2014Q4...OK\n",
            "2015Q1...OK\n",
            "2015Q2...OK\n",
            "2015Q3...OK\n",
            "2015Q4...OK\n",
            "2016Q1...OK\n",
            "2016Q2...OK\n",
            "2016Q3...OK\n",
            "2016Q4...OK\n",
            "2017Q1...OK\n",
            "2017Q2...OK\n",
            "2017Q3...OK\n",
            "2017Q4...OK\n",
            "2018Q1...OK\n",
            "2018Q2...OK\n",
            "2018Q3...OK\n",
            "2018Q4...OK\n",
            "2019Q1...OK\n",
            "2019Q2...OK\n",
            "2019Q3...OK\n",
            "2019Q4...OK\n",
            "2020Q1...OK\n",
            "2020Q2...OK\n",
            "2020Q3...OK\n",
            "2020Q4...OK\n",
            "CAGR: 9.48%\n",
            "Accumulated return: 147.66%\n",
            "Investment period: 10.0yrs\n",
            "Sharpe ratio: 0.71\n",
            "MDD: -38.26%\n"
          ]
        }
      ]
    },
    {
      "cell_type": "code",
      "source": [
        "fs.draw_return(df) # 좋은 전략은 아님"
      ],
      "metadata": {
        "colab": {
          "base_uri": "https://localhost:8080/",
          "height": 359
        },
        "id": "1G5ht_jkBlOm",
        "outputId": "26a6de14-07b7-46b0-81bb-c339c307ceb4"
      },
      "execution_count": 41,
      "outputs": [
        {
          "output_type": "display_data",
          "data": {
            "text/plain": [
              "<Figure size 720x360 with 2 Axes>"
            ],
            "image/png": "[encoded data removed]"
          },
          "metadata": {
            "needs_background": "light"
          }
        }
      ]
    }
  ]
}